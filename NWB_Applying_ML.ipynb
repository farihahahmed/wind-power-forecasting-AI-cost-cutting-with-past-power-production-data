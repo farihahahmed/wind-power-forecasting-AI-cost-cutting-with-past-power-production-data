{
  "nbformat": 4,
  "nbformat_minor": 0,
  "metadata": {
    "colab": {
      "provenance": [],
      "toc_visible": true,
      "mount_file_id": "1W4tIGm_m7a2CyZtWaZN8e6ebTuTsXE8_",
      "authorship_tag": "ABX9TyP7gWkGo9f5aJeWMUhYTYNT",
      "include_colab_link": true
    },
    "kernelspec": {
      "name": "python3",
      "display_name": "Python 3"
    },
    "language_info": {
      "name": "python"
    }
  },
  "cells": [
    {
      "cell_type": "markdown",
      "metadata": {
        "id": "view-in-github",
        "colab_type": "text"
      },
      "source": [
        "<a href=\"https://colab.research.google.com/github/farihahahmed/wind-power-forecasting-AI-cost-cutting-with-past-power-production-data/blob/main/NWB_Applying_ML.ipynb\" target=\"_parent\"><img src=\"https://colab.research.google.com/assets/colab-badge.svg\" alt=\"Open In Colab\"/></a>"
      ]
    },
    {
      "cell_type": "markdown",
      "source": [
        "#Setting it up"
      ],
      "metadata": {
        "id": "GxLQmIkbmhsi"
      }
    },
    {
      "cell_type": "code",
      "execution_count": null,
      "metadata": {
        "colab": {
          "base_uri": "https://localhost:8080/"
        },
        "id": "p5eH0naCyiyq",
        "outputId": "1ad4277d-d1cc-49d8-b994-376aa82a4249"
      },
      "outputs": [
        {
          "output_type": "stream",
          "name": "stdout",
          "text": [
            "Drive already mounted at /content/drive; to attempt to forcibly remount, call drive.mount(\"/content/drive\", force_remount=True).\n"
          ]
        }
      ],
      "source": [
        "#Mounting Google Drive\n",
        "from google.colab import drive\n",
        "drive.mount('/content/drive')"
      ]
    },
    {
      "cell_type": "code",
      "source": [
        "#Importing Our Data\n",
        "import pandas as pd\n",
        "\n",
        "x = pd.read_csv('/content/drive/MyDrive/HSA/Dataset2.csv')\n",
        "y = pd.read_csv('/content/drive/MyDrive/HSA/Dataset3.csv')"
      ],
      "metadata": {
        "id": "F_bWwHTpysk6"
      },
      "execution_count": null,
      "outputs": []
    },
    {
      "cell_type": "code",
      "source": [
        "x"
      ],
      "metadata": {
        "colab": {
          "base_uri": "https://localhost:8080/",
          "height": 423
        },
        "id": "Im9_vViNy9pW",
        "outputId": "b4afae34-0b5f-404d-dd93-4943b83005f0"
      },
      "execution_count": null,
      "outputs": [
        {
          "output_type": "execute_result",
          "data": {
            "text/plain": [
              "       Unnamed: 0         Date/Time  LV ActivePower (kW)\n",
              "0               0  01 01 2018 00:00           380.047791\n",
              "1               1  01 01 2018 00:10           453.769196\n",
              "2               2  01 01 2018 00:20           306.376587\n",
              "3               3  01 01 2018 00:30           419.645905\n",
              "4               4  01 01 2018 00:40           380.650696\n",
              "...           ...               ...                  ...\n",
              "50524       50524  31 12 2018 23:00          3514.269043\n",
              "50525       50525  31 12 2018 23:10          2963.980957\n",
              "50526       50526  31 12 2018 23:20          1684.353027\n",
              "50527       50527  31 12 2018 23:30          2201.106934\n",
              "50528       50528  31 12 2018 23:40          2515.694092\n",
              "\n",
              "[50529 rows x 3 columns]"
            ],
            "text/html": [
              "\n",
              "  <div id=\"df-f6cd943c-75ad-4efb-a46b-88c30187371f\">\n",
              "    <div class=\"colab-df-container\">\n",
              "      <div>\n",
              "<style scoped>\n",
              "    .dataframe tbody tr th:only-of-type {\n",
              "        vertical-align: middle;\n",
              "    }\n",
              "\n",
              "    .dataframe tbody tr th {\n",
              "        vertical-align: top;\n",
              "    }\n",
              "\n",
              "    .dataframe thead th {\n",
              "        text-align: right;\n",
              "    }\n",
              "</style>\n",
              "<table border=\"1\" class=\"dataframe\">\n",
              "  <thead>\n",
              "    <tr style=\"text-align: right;\">\n",
              "      <th></th>\n",
              "      <th>Unnamed: 0</th>\n",
              "      <th>Date/Time</th>\n",
              "      <th>LV ActivePower (kW)</th>\n",
              "    </tr>\n",
              "  </thead>\n",
              "  <tbody>\n",
              "    <tr>\n",
              "      <th>0</th>\n",
              "      <td>0</td>\n",
              "      <td>01 01 2018 00:00</td>\n",
              "      <td>380.047791</td>\n",
              "    </tr>\n",
              "    <tr>\n",
              "      <th>1</th>\n",
              "      <td>1</td>\n",
              "      <td>01 01 2018 00:10</td>\n",
              "      <td>453.769196</td>\n",
              "    </tr>\n",
              "    <tr>\n",
              "      <th>2</th>\n",
              "      <td>2</td>\n",
              "      <td>01 01 2018 00:20</td>\n",
              "      <td>306.376587</td>\n",
              "    </tr>\n",
              "    <tr>\n",
              "      <th>3</th>\n",
              "      <td>3</td>\n",
              "      <td>01 01 2018 00:30</td>\n",
              "      <td>419.645905</td>\n",
              "    </tr>\n",
              "    <tr>\n",
              "      <th>4</th>\n",
              "      <td>4</td>\n",
              "      <td>01 01 2018 00:40</td>\n",
              "      <td>380.650696</td>\n",
              "    </tr>\n",
              "    <tr>\n",
              "      <th>...</th>\n",
              "      <td>...</td>\n",
              "      <td>...</td>\n",
              "      <td>...</td>\n",
              "    </tr>\n",
              "    <tr>\n",
              "      <th>50524</th>\n",
              "      <td>50524</td>\n",
              "      <td>31 12 2018 23:00</td>\n",
              "      <td>3514.269043</td>\n",
              "    </tr>\n",
              "    <tr>\n",
              "      <th>50525</th>\n",
              "      <td>50525</td>\n",
              "      <td>31 12 2018 23:10</td>\n",
              "      <td>2963.980957</td>\n",
              "    </tr>\n",
              "    <tr>\n",
              "      <th>50526</th>\n",
              "      <td>50526</td>\n",
              "      <td>31 12 2018 23:20</td>\n",
              "      <td>1684.353027</td>\n",
              "    </tr>\n",
              "    <tr>\n",
              "      <th>50527</th>\n",
              "      <td>50527</td>\n",
              "      <td>31 12 2018 23:30</td>\n",
              "      <td>2201.106934</td>\n",
              "    </tr>\n",
              "    <tr>\n",
              "      <th>50528</th>\n",
              "      <td>50528</td>\n",
              "      <td>31 12 2018 23:40</td>\n",
              "      <td>2515.694092</td>\n",
              "    </tr>\n",
              "  </tbody>\n",
              "</table>\n",
              "<p>50529 rows × 3 columns</p>\n",
              "</div>\n",
              "      <button class=\"colab-df-convert\" onclick=\"convertToInteractive('df-f6cd943c-75ad-4efb-a46b-88c30187371f')\"\n",
              "              title=\"Convert this dataframe to an interactive table.\"\n",
              "              style=\"display:none;\">\n",
              "        \n",
              "  <svg xmlns=\"http://www.w3.org/2000/svg\" height=\"24px\"viewBox=\"0 0 24 24\"\n",
              "       width=\"24px\">\n",
              "    <path d=\"M0 0h24v24H0V0z\" fill=\"none\"/>\n",
              "    <path d=\"M18.56 5.44l.94 2.06.94-2.06 2.06-.94-2.06-.94-.94-2.06-.94 2.06-2.06.94zm-11 1L8.5 8.5l.94-2.06 2.06-.94-2.06-.94L8.5 2.5l-.94 2.06-2.06.94zm10 10l.94 2.06.94-2.06 2.06-.94-2.06-.94-.94-2.06-.94 2.06-2.06.94z\"/><path d=\"M17.41 7.96l-1.37-1.37c-.4-.4-.92-.59-1.43-.59-.52 0-1.04.2-1.43.59L10.3 9.45l-7.72 7.72c-.78.78-.78 2.05 0 2.83L4 21.41c.39.39.9.59 1.41.59.51 0 1.02-.2 1.41-.59l7.78-7.78 2.81-2.81c.8-.78.8-2.07 0-2.86zM5.41 20L4 18.59l7.72-7.72 1.47 1.35L5.41 20z\"/>\n",
              "  </svg>\n",
              "      </button>\n",
              "      \n",
              "  <style>\n",
              "    .colab-df-container {\n",
              "      display:flex;\n",
              "      flex-wrap:wrap;\n",
              "      gap: 12px;\n",
              "    }\n",
              "\n",
              "    .colab-df-convert {\n",
              "      background-color: #E8F0FE;\n",
              "      border: none;\n",
              "      border-radius: 50%;\n",
              "      cursor: pointer;\n",
              "      display: none;\n",
              "      fill: #1967D2;\n",
              "      height: 32px;\n",
              "      padding: 0 0 0 0;\n",
              "      width: 32px;\n",
              "    }\n",
              "\n",
              "    .colab-df-convert:hover {\n",
              "      background-color: #E2EBFA;\n",
              "      box-shadow: 0px 1px 2px rgba(60, 64, 67, 0.3), 0px 1px 3px 1px rgba(60, 64, 67, 0.15);\n",
              "      fill: #174EA6;\n",
              "    }\n",
              "\n",
              "    [theme=dark] .colab-df-convert {\n",
              "      background-color: #3B4455;\n",
              "      fill: #D2E3FC;\n",
              "    }\n",
              "\n",
              "    [theme=dark] .colab-df-convert:hover {\n",
              "      background-color: #434B5C;\n",
              "      box-shadow: 0px 1px 3px 1px rgba(0, 0, 0, 0.15);\n",
              "      filter: drop-shadow(0px 1px 2px rgba(0, 0, 0, 0.3));\n",
              "      fill: #FFFFFF;\n",
              "    }\n",
              "  </style>\n",
              "\n",
              "      <script>\n",
              "        const buttonEl =\n",
              "          document.querySelector('#df-f6cd943c-75ad-4efb-a46b-88c30187371f button.colab-df-convert');\n",
              "        buttonEl.style.display =\n",
              "          google.colab.kernel.accessAllowed ? 'block' : 'none';\n",
              "\n",
              "        async function convertToInteractive(key) {\n",
              "          const element = document.querySelector('#df-f6cd943c-75ad-4efb-a46b-88c30187371f');\n",
              "          const dataTable =\n",
              "            await google.colab.kernel.invokeFunction('convertToInteractive',\n",
              "                                                     [key], {});\n",
              "          if (!dataTable) return;\n",
              "\n",
              "          const docLinkHtml = 'Like what you see? Visit the ' +\n",
              "            '<a target=\"_blank\" href=https://colab.research.google.com/notebooks/data_table.ipynb>data table notebook</a>'\n",
              "            + ' to learn more about interactive tables.';\n",
              "          element.innerHTML = '';\n",
              "          dataTable['output_type'] = 'display_data';\n",
              "          await google.colab.output.renderOutput(dataTable, element);\n",
              "          const docLink = document.createElement('div');\n",
              "          docLink.innerHTML = docLinkHtml;\n",
              "          element.appendChild(docLink);\n",
              "        }\n",
              "      </script>\n",
              "    </div>\n",
              "  </div>\n",
              "  "
            ]
          },
          "metadata": {},
          "execution_count": 3
        }
      ]
    },
    {
      "cell_type": "code",
      "source": [
        "y"
      ],
      "metadata": {
        "colab": {
          "base_uri": "https://localhost:8080/",
          "height": 423
        },
        "id": "UE2FEhJMzCG2",
        "outputId": "2009e8d3-51d7-40e0-8c48-52a6801f78db"
      },
      "execution_count": null,
      "outputs": [
        {
          "output_type": "execute_result",
          "data": {
            "text/plain": [
              "       Unnamed: 0         Date/Time  LV ActivePower (kW)\n",
              "0               0  01 01 2018 00:10           453.769196\n",
              "1               1  01 01 2018 00:20           306.376587\n",
              "2               2  01 01 2018 00:30           419.645905\n",
              "3               3  01 01 2018 00:40           380.650696\n",
              "4               4  01 01 2018 00:50           402.391998\n",
              "...           ...               ...                  ...\n",
              "50524       50524  31 12 2018 23:10          2963.980957\n",
              "50525       50525  31 12 2018 23:20          1684.353027\n",
              "50526       50526  31 12 2018 23:30          2201.106934\n",
              "50527       50527  31 12 2018 23:40          2515.694092\n",
              "50528       50528  31 12 2018 23:50          2820.466064\n",
              "\n",
              "[50529 rows x 3 columns]"
            ],
            "text/html": [
              "\n",
              "  <div id=\"df-ed1bef00-6392-4b08-85a9-fa22f0c2c4ce\">\n",
              "    <div class=\"colab-df-container\">\n",
              "      <div>\n",
              "<style scoped>\n",
              "    .dataframe tbody tr th:only-of-type {\n",
              "        vertical-align: middle;\n",
              "    }\n",
              "\n",
              "    .dataframe tbody tr th {\n",
              "        vertical-align: top;\n",
              "    }\n",
              "\n",
              "    .dataframe thead th {\n",
              "        text-align: right;\n",
              "    }\n",
              "</style>\n",
              "<table border=\"1\" class=\"dataframe\">\n",
              "  <thead>\n",
              "    <tr style=\"text-align: right;\">\n",
              "      <th></th>\n",
              "      <th>Unnamed: 0</th>\n",
              "      <th>Date/Time</th>\n",
              "      <th>LV ActivePower (kW)</th>\n",
              "    </tr>\n",
              "  </thead>\n",
              "  <tbody>\n",
              "    <tr>\n",
              "      <th>0</th>\n",
              "      <td>0</td>\n",
              "      <td>01 01 2018 00:10</td>\n",
              "      <td>453.769196</td>\n",
              "    </tr>\n",
              "    <tr>\n",
              "      <th>1</th>\n",
              "      <td>1</td>\n",
              "      <td>01 01 2018 00:20</td>\n",
              "      <td>306.376587</td>\n",
              "    </tr>\n",
              "    <tr>\n",
              "      <th>2</th>\n",
              "      <td>2</td>\n",
              "      <td>01 01 2018 00:30</td>\n",
              "      <td>419.645905</td>\n",
              "    </tr>\n",
              "    <tr>\n",
              "      <th>3</th>\n",
              "      <td>3</td>\n",
              "      <td>01 01 2018 00:40</td>\n",
              "      <td>380.650696</td>\n",
              "    </tr>\n",
              "    <tr>\n",
              "      <th>4</th>\n",
              "      <td>4</td>\n",
              "      <td>01 01 2018 00:50</td>\n",
              "      <td>402.391998</td>\n",
              "    </tr>\n",
              "    <tr>\n",
              "      <th>...</th>\n",
              "      <td>...</td>\n",
              "      <td>...</td>\n",
              "      <td>...</td>\n",
              "    </tr>\n",
              "    <tr>\n",
              "      <th>50524</th>\n",
              "      <td>50524</td>\n",
              "      <td>31 12 2018 23:10</td>\n",
              "      <td>2963.980957</td>\n",
              "    </tr>\n",
              "    <tr>\n",
              "      <th>50525</th>\n",
              "      <td>50525</td>\n",
              "      <td>31 12 2018 23:20</td>\n",
              "      <td>1684.353027</td>\n",
              "    </tr>\n",
              "    <tr>\n",
              "      <th>50526</th>\n",
              "      <td>50526</td>\n",
              "      <td>31 12 2018 23:30</td>\n",
              "      <td>2201.106934</td>\n",
              "    </tr>\n",
              "    <tr>\n",
              "      <th>50527</th>\n",
              "      <td>50527</td>\n",
              "      <td>31 12 2018 23:40</td>\n",
              "      <td>2515.694092</td>\n",
              "    </tr>\n",
              "    <tr>\n",
              "      <th>50528</th>\n",
              "      <td>50528</td>\n",
              "      <td>31 12 2018 23:50</td>\n",
              "      <td>2820.466064</td>\n",
              "    </tr>\n",
              "  </tbody>\n",
              "</table>\n",
              "<p>50529 rows × 3 columns</p>\n",
              "</div>\n",
              "      <button class=\"colab-df-convert\" onclick=\"convertToInteractive('df-ed1bef00-6392-4b08-85a9-fa22f0c2c4ce')\"\n",
              "              title=\"Convert this dataframe to an interactive table.\"\n",
              "              style=\"display:none;\">\n",
              "        \n",
              "  <svg xmlns=\"http://www.w3.org/2000/svg\" height=\"24px\"viewBox=\"0 0 24 24\"\n",
              "       width=\"24px\">\n",
              "    <path d=\"M0 0h24v24H0V0z\" fill=\"none\"/>\n",
              "    <path d=\"M18.56 5.44l.94 2.06.94-2.06 2.06-.94-2.06-.94-.94-2.06-.94 2.06-2.06.94zm-11 1L8.5 8.5l.94-2.06 2.06-.94-2.06-.94L8.5 2.5l-.94 2.06-2.06.94zm10 10l.94 2.06.94-2.06 2.06-.94-2.06-.94-.94-2.06-.94 2.06-2.06.94z\"/><path d=\"M17.41 7.96l-1.37-1.37c-.4-.4-.92-.59-1.43-.59-.52 0-1.04.2-1.43.59L10.3 9.45l-7.72 7.72c-.78.78-.78 2.05 0 2.83L4 21.41c.39.39.9.59 1.41.59.51 0 1.02-.2 1.41-.59l7.78-7.78 2.81-2.81c.8-.78.8-2.07 0-2.86zM5.41 20L4 18.59l7.72-7.72 1.47 1.35L5.41 20z\"/>\n",
              "  </svg>\n",
              "      </button>\n",
              "      \n",
              "  <style>\n",
              "    .colab-df-container {\n",
              "      display:flex;\n",
              "      flex-wrap:wrap;\n",
              "      gap: 12px;\n",
              "    }\n",
              "\n",
              "    .colab-df-convert {\n",
              "      background-color: #E8F0FE;\n",
              "      border: none;\n",
              "      border-radius: 50%;\n",
              "      cursor: pointer;\n",
              "      display: none;\n",
              "      fill: #1967D2;\n",
              "      height: 32px;\n",
              "      padding: 0 0 0 0;\n",
              "      width: 32px;\n",
              "    }\n",
              "\n",
              "    .colab-df-convert:hover {\n",
              "      background-color: #E2EBFA;\n",
              "      box-shadow: 0px 1px 2px rgba(60, 64, 67, 0.3), 0px 1px 3px 1px rgba(60, 64, 67, 0.15);\n",
              "      fill: #174EA6;\n",
              "    }\n",
              "\n",
              "    [theme=dark] .colab-df-convert {\n",
              "      background-color: #3B4455;\n",
              "      fill: #D2E3FC;\n",
              "    }\n",
              "\n",
              "    [theme=dark] .colab-df-convert:hover {\n",
              "      background-color: #434B5C;\n",
              "      box-shadow: 0px 1px 3px 1px rgba(0, 0, 0, 0.15);\n",
              "      filter: drop-shadow(0px 1px 2px rgba(0, 0, 0, 0.3));\n",
              "      fill: #FFFFFF;\n",
              "    }\n",
              "  </style>\n",
              "\n",
              "      <script>\n",
              "        const buttonEl =\n",
              "          document.querySelector('#df-ed1bef00-6392-4b08-85a9-fa22f0c2c4ce button.colab-df-convert');\n",
              "        buttonEl.style.display =\n",
              "          google.colab.kernel.accessAllowed ? 'block' : 'none';\n",
              "\n",
              "        async function convertToInteractive(key) {\n",
              "          const element = document.querySelector('#df-ed1bef00-6392-4b08-85a9-fa22f0c2c4ce');\n",
              "          const dataTable =\n",
              "            await google.colab.kernel.invokeFunction('convertToInteractive',\n",
              "                                                     [key], {});\n",
              "          if (!dataTable) return;\n",
              "\n",
              "          const docLinkHtml = 'Like what you see? Visit the ' +\n",
              "            '<a target=\"_blank\" href=https://colab.research.google.com/notebooks/data_table.ipynb>data table notebook</a>'\n",
              "            + ' to learn more about interactive tables.';\n",
              "          element.innerHTML = '';\n",
              "          dataTable['output_type'] = 'display_data';\n",
              "          await google.colab.output.renderOutput(dataTable, element);\n",
              "          const docLink = document.createElement('div');\n",
              "          docLink.innerHTML = docLinkHtml;\n",
              "          element.appendChild(docLink);\n",
              "        }\n",
              "      </script>\n",
              "    </div>\n",
              "  </div>\n",
              "  "
            ]
          },
          "metadata": {},
          "execution_count": 4
        }
      ]
    },
    {
      "cell_type": "code",
      "source": [
        "x = x.drop([\"Unnamed: 0\", \"Date/Time\"], axis=1)\n",
        "y = y.drop([\"Unnamed: 0\", \"Date/Time\"], axis=1)"
      ],
      "metadata": {
        "id": "x9dBL3ux0k5j"
      },
      "execution_count": null,
      "outputs": []
    },
    {
      "cell_type": "code",
      "source": [
        "print(x.shape)\n",
        "print(y.shape)"
      ],
      "metadata": {
        "colab": {
          "base_uri": "https://localhost:8080/"
        },
        "id": "J8kaRZCG0nSg",
        "outputId": "9a9e5bab-46c1-4a97-a52a-ad34d76c1a5f"
      },
      "execution_count": null,
      "outputs": [
        {
          "output_type": "stream",
          "name": "stdout",
          "text": [
            "(50529, 1)\n",
            "(50529, 1)\n"
          ]
        }
      ]
    },
    {
      "cell_type": "code",
      "source": [
        "x"
      ],
      "metadata": {
        "colab": {
          "base_uri": "https://localhost:8080/",
          "height": 423
        },
        "id": "F-_o8suKllqF",
        "outputId": "37072aef-6fd9-45fc-bcc7-3f5a86b3f39f"
      },
      "execution_count": null,
      "outputs": [
        {
          "output_type": "execute_result",
          "data": {
            "text/plain": [
              "       LV ActivePower (kW)\n",
              "0               380.047791\n",
              "1               453.769196\n",
              "2               306.376587\n",
              "3               419.645905\n",
              "4               380.650696\n",
              "...                    ...\n",
              "50524          3514.269043\n",
              "50525          2963.980957\n",
              "50526          1684.353027\n",
              "50527          2201.106934\n",
              "50528          2515.694092\n",
              "\n",
              "[50529 rows x 1 columns]"
            ],
            "text/html": [
              "\n",
              "  <div id=\"df-b5b191da-5406-431a-9b98-c054f7f8665c\">\n",
              "    <div class=\"colab-df-container\">\n",
              "      <div>\n",
              "<style scoped>\n",
              "    .dataframe tbody tr th:only-of-type {\n",
              "        vertical-align: middle;\n",
              "    }\n",
              "\n",
              "    .dataframe tbody tr th {\n",
              "        vertical-align: top;\n",
              "    }\n",
              "\n",
              "    .dataframe thead th {\n",
              "        text-align: right;\n",
              "    }\n",
              "</style>\n",
              "<table border=\"1\" class=\"dataframe\">\n",
              "  <thead>\n",
              "    <tr style=\"text-align: right;\">\n",
              "      <th></th>\n",
              "      <th>LV ActivePower (kW)</th>\n",
              "    </tr>\n",
              "  </thead>\n",
              "  <tbody>\n",
              "    <tr>\n",
              "      <th>0</th>\n",
              "      <td>380.047791</td>\n",
              "    </tr>\n",
              "    <tr>\n",
              "      <th>1</th>\n",
              "      <td>453.769196</td>\n",
              "    </tr>\n",
              "    <tr>\n",
              "      <th>2</th>\n",
              "      <td>306.376587</td>\n",
              "    </tr>\n",
              "    <tr>\n",
              "      <th>3</th>\n",
              "      <td>419.645905</td>\n",
              "    </tr>\n",
              "    <tr>\n",
              "      <th>4</th>\n",
              "      <td>380.650696</td>\n",
              "    </tr>\n",
              "    <tr>\n",
              "      <th>...</th>\n",
              "      <td>...</td>\n",
              "    </tr>\n",
              "    <tr>\n",
              "      <th>50524</th>\n",
              "      <td>3514.269043</td>\n",
              "    </tr>\n",
              "    <tr>\n",
              "      <th>50525</th>\n",
              "      <td>2963.980957</td>\n",
              "    </tr>\n",
              "    <tr>\n",
              "      <th>50526</th>\n",
              "      <td>1684.353027</td>\n",
              "    </tr>\n",
              "    <tr>\n",
              "      <th>50527</th>\n",
              "      <td>2201.106934</td>\n",
              "    </tr>\n",
              "    <tr>\n",
              "      <th>50528</th>\n",
              "      <td>2515.694092</td>\n",
              "    </tr>\n",
              "  </tbody>\n",
              "</table>\n",
              "<p>50529 rows × 1 columns</p>\n",
              "</div>\n",
              "      <button class=\"colab-df-convert\" onclick=\"convertToInteractive('df-b5b191da-5406-431a-9b98-c054f7f8665c')\"\n",
              "              title=\"Convert this dataframe to an interactive table.\"\n",
              "              style=\"display:none;\">\n",
              "        \n",
              "  <svg xmlns=\"http://www.w3.org/2000/svg\" height=\"24px\"viewBox=\"0 0 24 24\"\n",
              "       width=\"24px\">\n",
              "    <path d=\"M0 0h24v24H0V0z\" fill=\"none\"/>\n",
              "    <path d=\"M18.56 5.44l.94 2.06.94-2.06 2.06-.94-2.06-.94-.94-2.06-.94 2.06-2.06.94zm-11 1L8.5 8.5l.94-2.06 2.06-.94-2.06-.94L8.5 2.5l-.94 2.06-2.06.94zm10 10l.94 2.06.94-2.06 2.06-.94-2.06-.94-.94-2.06-.94 2.06-2.06.94z\"/><path d=\"M17.41 7.96l-1.37-1.37c-.4-.4-.92-.59-1.43-.59-.52 0-1.04.2-1.43.59L10.3 9.45l-7.72 7.72c-.78.78-.78 2.05 0 2.83L4 21.41c.39.39.9.59 1.41.59.51 0 1.02-.2 1.41-.59l7.78-7.78 2.81-2.81c.8-.78.8-2.07 0-2.86zM5.41 20L4 18.59l7.72-7.72 1.47 1.35L5.41 20z\"/>\n",
              "  </svg>\n",
              "      </button>\n",
              "      \n",
              "  <style>\n",
              "    .colab-df-container {\n",
              "      display:flex;\n",
              "      flex-wrap:wrap;\n",
              "      gap: 12px;\n",
              "    }\n",
              "\n",
              "    .colab-df-convert {\n",
              "      background-color: #E8F0FE;\n",
              "      border: none;\n",
              "      border-radius: 50%;\n",
              "      cursor: pointer;\n",
              "      display: none;\n",
              "      fill: #1967D2;\n",
              "      height: 32px;\n",
              "      padding: 0 0 0 0;\n",
              "      width: 32px;\n",
              "    }\n",
              "\n",
              "    .colab-df-convert:hover {\n",
              "      background-color: #E2EBFA;\n",
              "      box-shadow: 0px 1px 2px rgba(60, 64, 67, 0.3), 0px 1px 3px 1px rgba(60, 64, 67, 0.15);\n",
              "      fill: #174EA6;\n",
              "    }\n",
              "\n",
              "    [theme=dark] .colab-df-convert {\n",
              "      background-color: #3B4455;\n",
              "      fill: #D2E3FC;\n",
              "    }\n",
              "\n",
              "    [theme=dark] .colab-df-convert:hover {\n",
              "      background-color: #434B5C;\n",
              "      box-shadow: 0px 1px 3px 1px rgba(0, 0, 0, 0.15);\n",
              "      filter: drop-shadow(0px 1px 2px rgba(0, 0, 0, 0.3));\n",
              "      fill: #FFFFFF;\n",
              "    }\n",
              "  </style>\n",
              "\n",
              "      <script>\n",
              "        const buttonEl =\n",
              "          document.querySelector('#df-b5b191da-5406-431a-9b98-c054f7f8665c button.colab-df-convert');\n",
              "        buttonEl.style.display =\n",
              "          google.colab.kernel.accessAllowed ? 'block' : 'none';\n",
              "\n",
              "        async function convertToInteractive(key) {\n",
              "          const element = document.querySelector('#df-b5b191da-5406-431a-9b98-c054f7f8665c');\n",
              "          const dataTable =\n",
              "            await google.colab.kernel.invokeFunction('convertToInteractive',\n",
              "                                                     [key], {});\n",
              "          if (!dataTable) return;\n",
              "\n",
              "          const docLinkHtml = 'Like what you see? Visit the ' +\n",
              "            '<a target=\"_blank\" href=https://colab.research.google.com/notebooks/data_table.ipynb>data table notebook</a>'\n",
              "            + ' to learn more about interactive tables.';\n",
              "          element.innerHTML = '';\n",
              "          dataTable['output_type'] = 'display_data';\n",
              "          await google.colab.output.renderOutput(dataTable, element);\n",
              "          const docLink = document.createElement('div');\n",
              "          docLink.innerHTML = docLinkHtml;\n",
              "          element.appendChild(docLink);\n",
              "        }\n",
              "      </script>\n",
              "    </div>\n",
              "  </div>\n",
              "  "
            ]
          },
          "metadata": {},
          "execution_count": 17
        }
      ]
    },
    {
      "cell_type": "code",
      "source": [
        "y"
      ],
      "metadata": {
        "colab": {
          "base_uri": "https://localhost:8080/",
          "height": 423
        },
        "id": "BMjdQ004lmvS",
        "outputId": "76e7ef7a-1457-4d83-e850-ef4145cba36d"
      },
      "execution_count": null,
      "outputs": [
        {
          "output_type": "execute_result",
          "data": {
            "text/plain": [
              "       LV ActivePower (kW)\n",
              "0               453.769196\n",
              "1               306.376587\n",
              "2               419.645905\n",
              "3               380.650696\n",
              "4               402.391998\n",
              "...                    ...\n",
              "50524          2963.980957\n",
              "50525          1684.353027\n",
              "50526          2201.106934\n",
              "50527          2515.694092\n",
              "50528          2820.466064\n",
              "\n",
              "[50529 rows x 1 columns]"
            ],
            "text/html": [
              "\n",
              "  <div id=\"df-09cd71f3-f2da-4274-8cd7-81939157d510\">\n",
              "    <div class=\"colab-df-container\">\n",
              "      <div>\n",
              "<style scoped>\n",
              "    .dataframe tbody tr th:only-of-type {\n",
              "        vertical-align: middle;\n",
              "    }\n",
              "\n",
              "    .dataframe tbody tr th {\n",
              "        vertical-align: top;\n",
              "    }\n",
              "\n",
              "    .dataframe thead th {\n",
              "        text-align: right;\n",
              "    }\n",
              "</style>\n",
              "<table border=\"1\" class=\"dataframe\">\n",
              "  <thead>\n",
              "    <tr style=\"text-align: right;\">\n",
              "      <th></th>\n",
              "      <th>LV ActivePower (kW)</th>\n",
              "    </tr>\n",
              "  </thead>\n",
              "  <tbody>\n",
              "    <tr>\n",
              "      <th>0</th>\n",
              "      <td>453.769196</td>\n",
              "    </tr>\n",
              "    <tr>\n",
              "      <th>1</th>\n",
              "      <td>306.376587</td>\n",
              "    </tr>\n",
              "    <tr>\n",
              "      <th>2</th>\n",
              "      <td>419.645905</td>\n",
              "    </tr>\n",
              "    <tr>\n",
              "      <th>3</th>\n",
              "      <td>380.650696</td>\n",
              "    </tr>\n",
              "    <tr>\n",
              "      <th>4</th>\n",
              "      <td>402.391998</td>\n",
              "    </tr>\n",
              "    <tr>\n",
              "      <th>...</th>\n",
              "      <td>...</td>\n",
              "    </tr>\n",
              "    <tr>\n",
              "      <th>50524</th>\n",
              "      <td>2963.980957</td>\n",
              "    </tr>\n",
              "    <tr>\n",
              "      <th>50525</th>\n",
              "      <td>1684.353027</td>\n",
              "    </tr>\n",
              "    <tr>\n",
              "      <th>50526</th>\n",
              "      <td>2201.106934</td>\n",
              "    </tr>\n",
              "    <tr>\n",
              "      <th>50527</th>\n",
              "      <td>2515.694092</td>\n",
              "    </tr>\n",
              "    <tr>\n",
              "      <th>50528</th>\n",
              "      <td>2820.466064</td>\n",
              "    </tr>\n",
              "  </tbody>\n",
              "</table>\n",
              "<p>50529 rows × 1 columns</p>\n",
              "</div>\n",
              "      <button class=\"colab-df-convert\" onclick=\"convertToInteractive('df-09cd71f3-f2da-4274-8cd7-81939157d510')\"\n",
              "              title=\"Convert this dataframe to an interactive table.\"\n",
              "              style=\"display:none;\">\n",
              "        \n",
              "  <svg xmlns=\"http://www.w3.org/2000/svg\" height=\"24px\"viewBox=\"0 0 24 24\"\n",
              "       width=\"24px\">\n",
              "    <path d=\"M0 0h24v24H0V0z\" fill=\"none\"/>\n",
              "    <path d=\"M18.56 5.44l.94 2.06.94-2.06 2.06-.94-2.06-.94-.94-2.06-.94 2.06-2.06.94zm-11 1L8.5 8.5l.94-2.06 2.06-.94-2.06-.94L8.5 2.5l-.94 2.06-2.06.94zm10 10l.94 2.06.94-2.06 2.06-.94-2.06-.94-.94-2.06-.94 2.06-2.06.94z\"/><path d=\"M17.41 7.96l-1.37-1.37c-.4-.4-.92-.59-1.43-.59-.52 0-1.04.2-1.43.59L10.3 9.45l-7.72 7.72c-.78.78-.78 2.05 0 2.83L4 21.41c.39.39.9.59 1.41.59.51 0 1.02-.2 1.41-.59l7.78-7.78 2.81-2.81c.8-.78.8-2.07 0-2.86zM5.41 20L4 18.59l7.72-7.72 1.47 1.35L5.41 20z\"/>\n",
              "  </svg>\n",
              "      </button>\n",
              "      \n",
              "  <style>\n",
              "    .colab-df-container {\n",
              "      display:flex;\n",
              "      flex-wrap:wrap;\n",
              "      gap: 12px;\n",
              "    }\n",
              "\n",
              "    .colab-df-convert {\n",
              "      background-color: #E8F0FE;\n",
              "      border: none;\n",
              "      border-radius: 50%;\n",
              "      cursor: pointer;\n",
              "      display: none;\n",
              "      fill: #1967D2;\n",
              "      height: 32px;\n",
              "      padding: 0 0 0 0;\n",
              "      width: 32px;\n",
              "    }\n",
              "\n",
              "    .colab-df-convert:hover {\n",
              "      background-color: #E2EBFA;\n",
              "      box-shadow: 0px 1px 2px rgba(60, 64, 67, 0.3), 0px 1px 3px 1px rgba(60, 64, 67, 0.15);\n",
              "      fill: #174EA6;\n",
              "    }\n",
              "\n",
              "    [theme=dark] .colab-df-convert {\n",
              "      background-color: #3B4455;\n",
              "      fill: #D2E3FC;\n",
              "    }\n",
              "\n",
              "    [theme=dark] .colab-df-convert:hover {\n",
              "      background-color: #434B5C;\n",
              "      box-shadow: 0px 1px 3px 1px rgba(0, 0, 0, 0.15);\n",
              "      filter: drop-shadow(0px 1px 2px rgba(0, 0, 0, 0.3));\n",
              "      fill: #FFFFFF;\n",
              "    }\n",
              "  </style>\n",
              "\n",
              "      <script>\n",
              "        const buttonEl =\n",
              "          document.querySelector('#df-09cd71f3-f2da-4274-8cd7-81939157d510 button.colab-df-convert');\n",
              "        buttonEl.style.display =\n",
              "          google.colab.kernel.accessAllowed ? 'block' : 'none';\n",
              "\n",
              "        async function convertToInteractive(key) {\n",
              "          const element = document.querySelector('#df-09cd71f3-f2da-4274-8cd7-81939157d510');\n",
              "          const dataTable =\n",
              "            await google.colab.kernel.invokeFunction('convertToInteractive',\n",
              "                                                     [key], {});\n",
              "          if (!dataTable) return;\n",
              "\n",
              "          const docLinkHtml = 'Like what you see? Visit the ' +\n",
              "            '<a target=\"_blank\" href=https://colab.research.google.com/notebooks/data_table.ipynb>data table notebook</a>'\n",
              "            + ' to learn more about interactive tables.';\n",
              "          element.innerHTML = '';\n",
              "          dataTable['output_type'] = 'display_data';\n",
              "          await google.colab.output.renderOutput(dataTable, element);\n",
              "          const docLink = document.createElement('div');\n",
              "          docLink.innerHTML = docLinkHtml;\n",
              "          element.appendChild(docLink);\n",
              "        }\n",
              "      </script>\n",
              "    </div>\n",
              "  </div>\n",
              "  "
            ]
          },
          "metadata": {},
          "execution_count": 8
        }
      ]
    },
    {
      "cell_type": "code",
      "source": [
        "from sklearn.model_selection import train_test_split\n",
        "x_train, x_test, y_train, y_test = train_test_split(x, y, test_size = 0.2, random_state = 1, shuffle = False)"
      ],
      "metadata": {
        "id": "gg0SPQbi1I6z"
      },
      "execution_count": null,
      "outputs": []
    },
    {
      "cell_type": "markdown",
      "source": [
        "#LR model"
      ],
      "metadata": {
        "id": "4tDSwQozmltR"
      }
    },
    {
      "cell_type": "code",
      "source": [
        "pip install sigfig"
      ],
      "metadata": {
        "colab": {
          "base_uri": "https://localhost:8080/"
        },
        "id": "GhFOo6uqKMM3",
        "outputId": "22281913-2c04-42f6-86f2-ad840e377bab"
      },
      "execution_count": null,
      "outputs": [
        {
          "output_type": "stream",
          "name": "stdout",
          "text": [
            "Looking in indexes: https://pypi.org/simple, https://us-python.pkg.dev/colab-wheels/public/simple/\n",
            "Collecting sigfig\n",
            "  Downloading sigfig-1.3.2-py3-none-any.whl (9.8 kB)\n",
            "Requirement already satisfied: SortedContainers in /usr/local/lib/python3.10/dist-packages (from sigfig) (2.4.0)\n",
            "Installing collected packages: sigfig\n",
            "Successfully installed sigfig-1.3.2\n"
          ]
        }
      ]
    },
    {
      "cell_type": "code",
      "source": [
        "import numpy as np\n",
        "from sklearn.metrics import r2_score\n",
        "from sklearn.metrics import mean_squared_error\n",
        "from sklearn.metrics import mean_absolute_error\n",
        "from math import sqrt\n",
        "from sigfig import round"
      ],
      "metadata": {
        "id": "U8bHLt02nkbY"
      },
      "execution_count": null,
      "outputs": []
    },
    {
      "cell_type": "code",
      "source": [
        "from sklearn.linear_model import LinearRegression\n",
        "\n",
        "#model\n",
        "lr = LinearRegression()\n",
        "\n",
        "# fit\n",
        "lr.fit(x_train, y_train)\n",
        "\n",
        "# predict\n",
        "pred = lr.predict(x_test)\n",
        "\n",
        "# R2 score\n",
        "print(\"R2:\", round(r2_score(y_test, pred), sigfigs=4))\n",
        "\n",
        "#RMSE\n",
        "print(\"RMSE:\",  round(sqrt(mean_squared_error(y_test, pred)), sigfigs=4))\n",
        "\n",
        "#MAE\n",
        "print(\"MAE:\", round(mean_absolute_error(y_test, pred), sigfigs=4))"
      ],
      "metadata": {
        "colab": {
          "base_uri": "https://localhost:8080/"
        },
        "id": "U-Erwq41myEO",
        "outputId": "af5f4a25-dab9-4b61-806c-861d41d0b5c4"
      },
      "execution_count": null,
      "outputs": [
        {
          "output_type": "stream",
          "name": "stdout",
          "text": [
            "R2: 0.9712\n",
            "RMSE: 227.6\n",
            "MAE: 135.8\n"
          ]
        }
      ]
    },
    {
      "cell_type": "code",
      "source": [
        "pred24 = pred[0:144]\n",
        "actual24 = y_test[0:144]\n",
        "\n",
        "import matplotlib.pyplot as plt\n",
        "import numpy as np\n",
        "import math\n",
        "\n",
        "# Using Numpy to create an array X\n",
        "x_axis = np.linspace(0, 24, num=144)\n",
        "\n",
        "# Plotting both the curves simultaneously\n",
        "plt.plot(x_axis, pred24, color='b', label='Predicted Power Generated')\n",
        "plt.plot(x_axis, actual24, color='r', label='Actual Power Generated')\n",
        "\n",
        "# Naming the x-axis, y-axis and the whole graph\n",
        "plt.xlabel(\"24 Hours\")\n",
        "plt.ylabel(\"Power Generated in that Hour (kW)\")\n",
        "plt.title(\"Predicted vs Actual Power Generation for 24 Hours of Data in Dataset\")\n",
        "\n",
        "# Adding legend, which helps us recognize the curve according to it's color\n",
        "plt.legend()\n",
        "\n",
        "# To load the display window\n",
        "plt.show()"
      ],
      "metadata": {
        "colab": {
          "base_uri": "https://localhost:8080/",
          "height": 472
        },
        "id": "ifaZtdCHHOyd",
        "outputId": "7f4f96f1-6ebe-47d8-ec95-9f574202c716"
      },
      "execution_count": null,
      "outputs": [
        {
          "output_type": "display_data",
          "data": {
            "text/plain": [
              "<Figure size 640x480 with 1 Axes>"
            ],
            "image/png": "[encoded data removed]"
          },
          "metadata": {}
        }
      ]
    },
    {
      "cell_type": "code",
      "source": [
        "pred24 = pred[60:96]\n",
        "actual24 = y_test[60:96]\n",
        "\n",
        "import matplotlib.pyplot as plt\n",
        "import numpy as np\n",
        "import math\n",
        "\n",
        "# Using Numpy to create an array X\n",
        "x_axis = np.linspace(15, 20, num=36)\n",
        "\n",
        "# Plotting both the curves simultaneously\n",
        "plt.plot(x_axis, pred24, color='b', label='Predicted Power Generated')\n",
        "plt.plot(x_axis, actual24, color='r', label='Actual Power Generated')\n",
        "\n",
        "# Naming the x-axis, y-axis, and the whole graph\n",
        "plt.xlabel(\"Hour of the Day\")\n",
        "plt.ylabel(\"Power Generated in that Hour (kW)\")\n",
        "plt.title(\"Predicted vs Actual Power Generation between 15 and 20 Hours\")\n",
        "\n",
        "# Adding legend, which helps us recognize the curve according to its color\n",
        "plt.legend()\n",
        "\n",
        "# To display the plot\n",
        "plt.show()\n"
      ],
      "metadata": {
        "colab": {
          "base_uri": "https://localhost:8080/",
          "height": 472
        },
        "id": "fQjilsF5KUUg",
        "outputId": "f1df5d5b-726b-4c78-ecac-88f3309858b2"
      },
      "execution_count": null,
      "outputs": [
        {
          "output_type": "display_data",
          "data": {
            "text/plain": [
              "<Figure size 640x480 with 1 Axes>"
            ],
            "image/png": "[encoded data removed]"
          },
          "metadata": {}
        }
      ]
    },
    {
      "cell_type": "markdown",
      "source": [
        "#KNN model"
      ],
      "metadata": {
        "id": "Ho9TH-oQpge-"
      }
    },
    {
      "cell_type": "code",
      "source": [
        "from sklearn.neighbors import KNeighborsRegressor\n",
        "\n",
        "#model\n",
        "knn = KNeighborsRegressor(n_neighbors=7)\n",
        "\n",
        "# fit\n",
        "knn.fit(x_train,y_train)\n",
        "\n",
        "# predict\n",
        "pred = knn.predict(x_test)\n",
        "\n",
        "\n",
        "# R2 score\n",
        "print(\"R2:\", round(r2_score(y_test, pred), sigfigs=4))\n",
        "\n",
        "#RMSE\n",
        "print(\"RMSE:\",  round(sqrt(mean_squared_error(y_test, pred)), sigfigs=4))\n",
        "\n",
        "#MAE\n",
        "print(\"MAE:\", round(mean_absolute_error(y_test, pred), sigfigs=4))"
      ],
      "metadata": {
        "colab": {
          "base_uri": "https://localhost:8080/"
        },
        "id": "S6wURFRcpktf",
        "outputId": "5b3d5966-86e5-4e77-e6d9-611eb8dad8a4"
      },
      "execution_count": null,
      "outputs": [
        {
          "output_type": "stream",
          "name": "stdout",
          "text": [
            "R2: 0.9669\n",
            "RMSE: 244.1\n",
            "MAE: 143.2\n"
          ]
        }
      ]
    },
    {
      "cell_type": "markdown",
      "source": [
        "#Decision Tree"
      ],
      "metadata": {
        "id": "gaYBSTtmrKLF"
      }
    },
    {
      "cell_type": "code",
      "source": [
        "from sklearn.tree import DecisionTreeRegressor\n",
        "\n",
        "# model\n",
        "dt = DecisionTreeRegressor(max_depth=10,random_state=27)\n",
        "\n",
        "# fit\n",
        "dt.fit(x_train, y_train)\n",
        "\n",
        "# predict\n",
        "pred = dt.predict(x_test)\n",
        "\n",
        "# R2 score\n",
        "print(\"R2:\", round(r2_score(y_test, pred), sigfigs=4))\n",
        "\n",
        "#RMSE\n",
        "print(\"RMSE:\",  round(sqrt(mean_squared_error(y_test, pred)), sigfigs=4))\n",
        "\n",
        "#MAE\n",
        "print(\"MAE:\", round(mean_absolute_error(y_test, pred), sigfigs=4))"
      ],
      "metadata": {
        "colab": {
          "base_uri": "https://localhost:8080/"
        },
        "id": "nPomlV13remZ",
        "outputId": "b838386f-45f6-4ae2-852b-a567f68b1f3d"
      },
      "execution_count": null,
      "outputs": [
        {
          "output_type": "stream",
          "name": "stdout",
          "text": [
            "R2: 0.9671\n",
            "RMSE: 243.6\n",
            "MAE: 138.4\n"
          ]
        }
      ]
    },
    {
      "cell_type": "markdown",
      "source": [
        "#MLP Reggresor"
      ],
      "metadata": {
        "id": "U9bquVAQrnVi"
      }
    },
    {
      "cell_type": "code",
      "source": [
        "from sklearn.neural_network import MLPRegressor\n",
        "\n",
        "#model\n",
        "mlp = MLPRegressor(random_state=1, max_iter=30)\n",
        "\n",
        "# fit\n",
        "mlp.fit(x_train,y_train)\n",
        "\n",
        "# predict\n",
        "pred = mlp.predict(x_test)\n",
        "\n",
        "\n",
        "\n",
        "# R2 score\n",
        "print(\"R2:\", round(r2_score(y_test, pred), sigfigs=4))\n",
        "\n",
        "#RMSE\n",
        "print(\"RMSE:\",  round(sqrt(mean_squared_error(y_test, pred)), sigfigs=4))\n",
        "\n",
        "#MAE\n",
        "print(\"MAE:\", round(mean_absolute_error(y_test, pred), sigfigs=4))"
      ],
      "metadata": {
        "colab": {
          "base_uri": "https://localhost:8080/"
        },
        "id": "vxKqLKX1ruBB",
        "outputId": "2747909f-71fc-4b35-9009-a5b46bdd8b04"
      },
      "execution_count": null,
      "outputs": [
        {
          "output_type": "stream",
          "name": "stderr",
          "text": [
            "/usr/local/lib/python3.10/dist-packages/sklearn/neural_network/_multilayer_perceptron.py:1623: DataConversionWarning: A column-vector y was passed when a 1d array was expected. Please change the shape of y to (n_samples, ), for example using ravel().\n",
            "  y = column_or_1d(y, warn=True)\n"
          ]
        },
        {
          "output_type": "stream",
          "name": "stdout",
          "text": [
            "R2: 0.9712\n",
            "RMSE: 227.8\n",
            "MAE: 134.7\n"
          ]
        },
        {
          "output_type": "stream",
          "name": "stderr",
          "text": [
            "/usr/local/lib/python3.10/dist-packages/sklearn/neural_network/_multilayer_perceptron.py:686: ConvergenceWarning: Stochastic Optimizer: Maximum iterations (30) reached and the optimization hasn't converged yet.\n",
            "  warnings.warn(\n"
          ]
        }
      ]
    },
    {
      "cell_type": "markdown",
      "source": [
        "#Random Forest"
      ],
      "metadata": {
        "id": "rxDAgovNr1z_"
      }
    },
    {
      "cell_type": "code",
      "source": [
        "from sklearn.ensemble import RandomForestRegressor\n",
        "\n",
        "#model\n",
        "rf = RandomForestRegressor(n_estimators=20, random_state=1)\n",
        "\n",
        "# fit\n",
        "rf.fit(x_train,y_train)\n",
        "\n",
        "# predict\n",
        "pred = rf.predict(x_test)\n",
        "\n",
        "\n",
        "# R2 score\n",
        "print(\"R2:\", round(r2_score(y_test, pred), sigfigs=4))\n",
        "\n",
        "#RMSE\n",
        "print(\"RMSE:\",  round(sqrt(mean_squared_error(y_test, pred)), sigfigs=4))\n",
        "\n",
        "#MAE\n",
        "print(\"MAE:\", round(mean_absolute_error(y_test, pred), sigfigs=4))"
      ],
      "metadata": {
        "colab": {
          "base_uri": "https://localhost:8080/"
        },
        "id": "flATZB2dr3zl",
        "outputId": "2d2a6c12-806d-49aa-f337-8f1c970d6621"
      },
      "execution_count": null,
      "outputs": [
        {
          "output_type": "stream",
          "name": "stderr",
          "text": [
            "<ipython-input-32-7c4b72723ec1>:7: DataConversionWarning: A column-vector y was passed when a 1d array was expected. Please change the shape of y to (n_samples,), for example using ravel().\n",
            "  rf.fit(x_train,y_train)\n"
          ]
        },
        {
          "output_type": "stream",
          "name": "stdout",
          "text": [
            "R2: 0.9546\n",
            "RMSE: 285.9\n",
            "MAE: 166.3\n"
          ]
        }
      ]
    },
    {
      "cell_type": "markdown",
      "source": [
        "#NN #1\n",
        "- 3 dense layers\n",
        "- 96 to 500 to 8 to 48\n",
        "- 10 epochs"
      ],
      "metadata": {
        "id": "0DDAaI4zr9uA"
      }
    },
    {
      "cell_type": "code",
      "source": [
        "from keras.models import Sequential\n",
        "from keras.layers import Dense\n",
        "from keras import Input"
      ],
      "metadata": {
        "id": "96djBL9osB7J"
      },
      "execution_count": null,
      "outputs": []
    },
    {
      "cell_type": "code",
      "source": [
        "# define the keras model\n",
        "model1 = Sequential()\n",
        "model1.add(Dense(500, input_dim=1, activation='relu'))\n",
        "model1.add(Dense(8, activation='relu'))\n",
        "model1.add(Dense(1))\n",
        "model1.compile(loss='mse', optimizer='adam')\n",
        "# fit the keras model on the dataset\n",
        "model1.fit(x_train, y_train, epochs=10)"
      ],
      "metadata": {
        "colab": {
          "base_uri": "https://localhost:8080/"
        },
        "id": "Zht97kUDsDgW",
        "outputId": "c9c26df1-4637-46fd-a20c-20c6178ec34d"
      },
      "execution_count": null,
      "outputs": [
        {
          "output_type": "stream",
          "name": "stdout",
          "text": [
            "Epoch 1/10\n",
            "1264/1264 [==============================] - 3s 2ms/step - loss: 98887.8438\n",
            "Epoch 2/10\n",
            "1264/1264 [==============================] - 2s 2ms/step - loss: 61573.2266\n",
            "Epoch 3/10\n",
            "1264/1264 [==============================] - 4s 3ms/step - loss: 61810.3164\n",
            "Epoch 4/10\n",
            "1264/1264 [==============================] - 4s 3ms/step - loss: 62027.0352\n",
            "Epoch 5/10\n",
            "1264/1264 [==============================] - 4s 3ms/step - loss: 61954.3359\n",
            "Epoch 6/10\n",
            "1264/1264 [==============================] - 3s 3ms/step - loss: 61903.4180\n",
            "Epoch 7/10\n",
            "1264/1264 [==============================] - 6s 5ms/step - loss: 61600.7070\n",
            "Epoch 8/10\n",
            "1264/1264 [==============================] - 4s 3ms/step - loss: 61617.1680\n",
            "Epoch 9/10\n",
            "1264/1264 [==============================] - 4s 3ms/step - loss: 61624.9297\n",
            "Epoch 10/10\n",
            "1264/1264 [==============================] - 5s 4ms/step - loss: 61545.3008\n"
          ]
        },
        {
          "output_type": "execute_result",
          "data": {
            "text/plain": [
              "<keras.callbacks.History at 0x7ff7d45965c0>"
            ]
          },
          "metadata": {},
          "execution_count": 13
        }
      ]
    },
    {
      "cell_type": "code",
      "source": [
        "#predict\n",
        "pred = model1.predict(x_test)\n",
        "\n",
        "\n",
        "\n",
        "# R2 score\n",
        "print(\"R2:\", round(r2_score(y_test, pred), sigfigs=4))\n",
        "\n",
        "#RMSE\n",
        "print(\"RMSE:\",  round(sqrt(mean_squared_error(y_test, pred)), sigfigs=4))\n",
        "\n",
        "#MAE\n",
        "print(\"MAE:\", round(mean_absolute_error(y_test, pred), sigfigs=4))"
      ],
      "metadata": {
        "colab": {
          "base_uri": "https://localhost:8080/"
        },
        "id": "B0C_zu0KsLY6",
        "outputId": "a8db8b51-ba96-4709-9076-da0fb1292ddf"
      },
      "execution_count": null,
      "outputs": [
        {
          "output_type": "stream",
          "name": "stdout",
          "text": [
            "316/316 [==============================] - 0s 1ms/step\n",
            "R2: 0.9712\n",
            "RMSE: 227.9\n",
            "MAE: 129.4\n"
          ]
        }
      ]
    },
    {
      "cell_type": "code",
      "source": [
        "pred24 = pred[0:144]\n",
        "actual24 = y_test[0:144]"
      ],
      "metadata": {
        "id": "fM6GqMUFPyik"
      },
      "execution_count": null,
      "outputs": []
    },
    {
      "cell_type": "code",
      "source": [
        "import matplotlib.pyplot as plt\n",
        "import numpy as np\n",
        "import math\n",
        "\n",
        "# Using Numpy to create an array X\n",
        "x_axis = np.linspace(0, 24, num=144)\n",
        "\n",
        "# Plotting both the curves simultaneously\n",
        "plt.plot(x_axis, pred24, color='b', label='Predicted Power Generated')\n",
        "plt.plot(x_axis, actual24, color='r', label='Actual Power Generated')\n",
        "\n",
        "# Naming the x-axis, y-axis and the whole graph\n",
        "plt.xlabel(\"24 Hours\")\n",
        "plt.ylabel(\"Power Generated in that Hour (kW)\")\n",
        "plt.title(\"Predicted vs Actual Power Generation for 24 Hours of Data in Dataset\")\n",
        "\n",
        "# Adding legend, which helps us recognize the curve according to it's color\n",
        "plt.legend()\n",
        "\n",
        "# To load the display window\n",
        "plt.show()"
      ],
      "metadata": {
        "colab": {
          "base_uri": "https://localhost:8080/",
          "height": 472
        },
        "id": "PuSsj9s9QS6P",
        "outputId": "2ea56566-315f-44ed-8ebe-c50f6bad9885"
      },
      "execution_count": null,
      "outputs": [
        {
          "output_type": "display_data",
          "data": {
            "text/plain": [
              "<Figure size 640x480 with 1 Axes>"
            ],
            "image/png": "[encoded data removed]"
          },
          "metadata": {}
        }
      ]
    },
    {
      "cell_type": "code",
      "source": [
        "pred24 = pred[90:120]\n",
        "actual24 = y_test[90:120]\n",
        "\n",
        "import matplotlib.pyplot as plt\n",
        "import numpy as np\n",
        "import math\n",
        "\n",
        "# Using Numpy to create an array X\n",
        "x_axis = np.linspace(15, 20, num=30)\n",
        "\n",
        "# Plotting both the curves simultaneously\n",
        "plt.plot(x_axis, pred24, color='b', label='Predicted Power Generated')\n",
        "plt.plot(x_axis, actual24, color='r', label='Actual Power Generated')\n",
        "\n",
        "# Naming the x-axis, y-axis, and the whole graph\n",
        "plt.xlabel(\"Hour of the Day\")\n",
        "plt.ylabel(\"Power Generated in that Hour (kW)\")\n",
        "plt.title(\"Predicted vs Actual Power Generation between 15 and 20 Hours\")\n",
        "\n",
        "# Adding legend, which helps us recognize the curve according to its color\n",
        "plt.legend()\n",
        "\n",
        "# To display the plot\n",
        "plt.show()\n"
      ],
      "metadata": {
        "colab": {
          "base_uri": "https://localhost:8080/",
          "height": 239
        },
        "id": "9xZCJca8hYqU",
        "outputId": "bf38b7c5-5c08-4fd4-af38-62bd6f07b7ac"
      },
      "execution_count": null,
      "outputs": [
        {
          "output_type": "error",
          "ename": "NameError",
          "evalue": "ignored",
          "traceback": [
            "\u001b[0;31m---------------------------------------------------------------------------\u001b[0m",
            "\u001b[0;31mNameError\u001b[0m                                 Traceback (most recent call last)",
            "\u001b[0;32m<ipython-input-34-4d57da342e47>\u001b[0m in \u001b[0;36m<cell line: 9>\u001b[0;34m()\u001b[0m\n\u001b[1;32m      7\u001b[0m \u001b[0;34m\u001b[0m\u001b[0m\n\u001b[1;32m      8\u001b[0m \u001b[0;31m# Plotting the first graph: 'Weather-based prediction'\u001b[0m\u001b[0;34m\u001b[0m\u001b[0;34m\u001b[0m\u001b[0m\n\u001b[0;32m----> 9\u001b[0;31m \u001b[0mplt\u001b[0m\u001b[0;34m.\u001b[0m\u001b[0mplot\u001b[0m\u001b[0;34m(\u001b[0m\u001b[0mwb_df\u001b[0m\u001b[0;34m[\u001b[0m\u001b[0;34m'pred'\u001b[0m\u001b[0;34m]\u001b[0m\u001b[0;34m[\u001b[0m\u001b[0mstart\u001b[0m\u001b[0;34m:\u001b[0m\u001b[0mend\u001b[0m\u001b[0;34m]\u001b[0m\u001b[0;34m,\u001b[0m \u001b[0mlabel\u001b[0m\u001b[0;34m=\u001b[0m\u001b[0;34m'Weather-based prediction'\u001b[0m\u001b[0;34m,\u001b[0m \u001b[0mcolor\u001b[0m\u001b[0;34m=\u001b[0m\u001b[0;34m'red'\u001b[0m\u001b[0;34m)\u001b[0m\u001b[0;34m\u001b[0m\u001b[0;34m\u001b[0m\u001b[0m\n\u001b[0m\u001b[1;32m     10\u001b[0m \u001b[0;34m\u001b[0m\u001b[0m\n\u001b[1;32m     11\u001b[0m \u001b[0;31m# Plotting the second graph: 'Non-weather-based prediction'\u001b[0m\u001b[0;34m\u001b[0m\u001b[0;34m\u001b[0m\u001b[0m\n",
            "\u001b[0;31mNameError\u001b[0m: name 'wb_df' is not defined"
          ]
        }
      ]
    },
    {
      "cell_type": "markdown",
      "source": [
        "#NN2\n",
        "- 3 dense layers\n",
        "- 96 to 1000 to 8 to 48\n",
        "- 10 epochs"
      ],
      "metadata": {
        "id": "ar31LrAcskPx"
      }
    },
    {
      "cell_type": "code",
      "source": [
        "# define the keras model\n",
        "model2 = Sequential()\n",
        "model2.add(Dense(1000, input_dim=1, activation='relu'))\n",
        "model2.add(Dense(8, activation='relu'))\n",
        "model2.add(Dense(1))\n",
        "model2.compile(loss='mse', optimizer='adam')\n",
        "# fit the keras model on the dataset\n",
        "model2.fit(x_train, y_train, epochs=10)"
      ],
      "metadata": {
        "colab": {
          "base_uri": "https://localhost:8080/"
        },
        "id": "KsLvKg3zsnmX",
        "outputId": "3c2a61f9-090b-47d6-acd2-78ea5ec05e61"
      },
      "execution_count": null,
      "outputs": [
        {
          "output_type": "stream",
          "name": "stdout",
          "text": [
            "Epoch 1/10\n",
            "1264/1264 [==============================] - 8s 5ms/step - loss: 101955.5156\n",
            "Epoch 2/10\n",
            "1264/1264 [==============================] - 5s 4ms/step - loss: 61850.8477\n",
            "Epoch 3/10\n",
            "1264/1264 [==============================] - 6s 5ms/step - loss: 61830.7148\n",
            "Epoch 4/10\n",
            "1264/1264 [==============================] - 8s 7ms/step - loss: 62029.2109\n",
            "Epoch 5/10\n",
            "1264/1264 [==============================] - 4s 3ms/step - loss: 61693.7656\n",
            "Epoch 6/10\n",
            "1264/1264 [==============================] - 5s 4ms/step - loss: 61731.6797\n",
            "Epoch 7/10\n",
            "1264/1264 [==============================] - 4s 3ms/step - loss: 61772.7109\n",
            "Epoch 8/10\n",
            "1264/1264 [==============================] - 5s 4ms/step - loss: 61946.2500\n",
            "Epoch 9/10\n",
            "1264/1264 [==============================] - 3s 3ms/step - loss: 61565.6797\n",
            "Epoch 10/10\n",
            "1264/1264 [==============================] - 6s 5ms/step - loss: 61705.5703\n"
          ]
        },
        {
          "output_type": "execute_result",
          "data": {
            "text/plain": [
              "<keras.callbacks.History at 0x7fef53f87a90>"
            ]
          },
          "metadata": {},
          "execution_count": 38
        }
      ]
    },
    {
      "cell_type": "code",
      "source": [
        "#predict\n",
        "pred = model2.predict(x_test)\n",
        "\n",
        "# R2 score\n",
        "print(\"R2:\", round(r2_score(y_test, pred), sigfigs=4))\n",
        "\n",
        "#RMSE\n",
        "print(\"RMSE:\",  round(sqrt(mean_squared_error(y_test, pred)), sigfigs=4))\n",
        "\n",
        "#MAE\n",
        "print(\"MAE:\", round(mean_absolute_error(y_test, pred), sigfigs=4))"
      ],
      "metadata": {
        "colab": {
          "base_uri": "https://localhost:8080/"
        },
        "id": "goifzGRotHf7",
        "outputId": "b76be412-4350-4003-e1bf-7ccfd6551e94"
      },
      "execution_count": null,
      "outputs": [
        {
          "output_type": "stream",
          "name": "stdout",
          "text": [
            "316/316 [==============================] - 1s 3ms/step\n",
            "R2: 0.971\n",
            "RMSE: 228.6\n",
            "MAE: 130.5\n"
          ]
        }
      ]
    },
    {
      "cell_type": "markdown",
      "source": [
        "#NN3\n",
        "- 3 dense layers\n",
        "- 96 to 1000 to 8 to 48\n",
        "- 15 epochs"
      ],
      "metadata": {
        "id": "BNz0oq2_tRGn"
      }
    },
    {
      "cell_type": "code",
      "source": [
        "# define the keras model\n",
        "model3 = Sequential()\n",
        "model3.add(Dense(1000, input_dim=1, activation='relu'))\n",
        "model3.add(Dense(8, activation='relu'))\n",
        "model3.add(Dense(1))\n",
        "model3.compile(loss='mse', optimizer='adam')\n",
        "# fit the keras model on the dataset\n",
        "model3.fit(x_train, y_train, epochs=15)"
      ],
      "metadata": {
        "colab": {
          "base_uri": "https://localhost:8080/"
        },
        "id": "8rPwfKSctRls",
        "outputId": "0398bf2c-4486-49e3-851f-994e296ab41d"
      },
      "execution_count": null,
      "outputs": [
        {
          "output_type": "stream",
          "name": "stdout",
          "text": [
            "Epoch 1/15\n",
            "1264/1264 [==============================] - 6s 4ms/step - loss: 78417.6484\n",
            "Epoch 2/15\n",
            "1264/1264 [==============================] - 3s 3ms/step - loss: 62244.6758\n",
            "Epoch 3/15\n",
            "1264/1264 [==============================] - 4s 3ms/step - loss: 62367.0039\n",
            "Epoch 4/15\n",
            "1264/1264 [==============================] - 3s 2ms/step - loss: 62254.0898\n",
            "Epoch 5/15\n",
            "1264/1264 [==============================] - 3s 2ms/step - loss: 61909.0234\n",
            "Epoch 6/15\n",
            "1264/1264 [==============================] - 4s 3ms/step - loss: 62078.3750\n",
            "Epoch 7/15\n",
            "1264/1264 [==============================] - 5s 4ms/step - loss: 61978.7578\n",
            "Epoch 8/15\n",
            "1264/1264 [==============================] - 4s 3ms/step - loss: 61913.7852\n",
            "Epoch 9/15\n",
            "1264/1264 [==============================] - 3s 2ms/step - loss: 62077.7500\n",
            "Epoch 10/15\n",
            "1264/1264 [==============================] - 4s 3ms/step - loss: 61913.9141\n",
            "Epoch 11/15\n",
            "1264/1264 [==============================] - 4s 3ms/step - loss: 61884.3320\n",
            "Epoch 12/15\n",
            "1264/1264 [==============================] - 4s 3ms/step - loss: 62001.1133\n",
            "Epoch 13/15\n",
            "1264/1264 [==============================] - 3s 2ms/step - loss: 61945.2500\n",
            "Epoch 14/15\n",
            "1264/1264 [==============================] - 3s 3ms/step - loss: 61849.0234\n",
            "Epoch 15/15\n",
            "1264/1264 [==============================] - 4s 3ms/step - loss: 61622.6523\n"
          ]
        },
        {
          "output_type": "execute_result",
          "data": {
            "text/plain": [
              "<keras.callbacks.History at 0x7fef52593be0>"
            ]
          },
          "metadata": {},
          "execution_count": 40
        }
      ]
    },
    {
      "cell_type": "code",
      "source": [
        "#predict\n",
        "pred = model3.predict(x_test)\n",
        "\n",
        "# R2 score\n",
        "print(\"R2:\", round(r2_score(y_test, pred), sigfigs=4))\n",
        "\n",
        "#RMSE\n",
        "print(\"RMSE:\",  round(sqrt(mean_squared_error(y_test, pred)), sigfigs=4))\n",
        "\n",
        "#MAE\n",
        "print(\"MAE:\", round(mean_absolute_error(y_test, pred), sigfigs=4))"
      ],
      "metadata": {
        "colab": {
          "base_uri": "https://localhost:8080/"
        },
        "id": "UZogiLMGtmxN",
        "outputId": "32961016-5bee-45a7-ee90-bc34f489ab53"
      },
      "execution_count": null,
      "outputs": [
        {
          "output_type": "stream",
          "name": "stdout",
          "text": [
            "316/316 [==============================] - 1s 2ms/step\n",
            "R2: 0.971\n",
            "RMSE: 228.5\n",
            "MAE: 130.1\n"
          ]
        }
      ]
    },
    {
      "cell_type": "markdown",
      "source": [
        "#NN #4\n",
        "- 2 dense layers\n",
        "- 96 to 100 to 48\n",
        "- 10 epochs"
      ],
      "metadata": {
        "id": "Tjzm52O4yKpU"
      }
    },
    {
      "cell_type": "code",
      "source": [
        "model4 = Sequential()\n",
        "model4.add(Dense(100, activation='relu', input_dim=1))\n",
        "model4.add(Dense(1))\n",
        "model4.compile(optimizer='adam', loss='mse')\n",
        "model4.fit(x_train, y_train, epochs=10)"
      ],
      "metadata": {
        "colab": {
          "base_uri": "https://localhost:8080/"
        },
        "id": "xsqMb810yOH1",
        "outputId": "bd8ad34c-c554-4aa1-cd1a-42696ed5bd79"
      },
      "execution_count": null,
      "outputs": [
        {
          "output_type": "stream",
          "name": "stdout",
          "text": [
            "Epoch 1/10\n",
            "1264/1264 [==============================] - 3s 2ms/step - loss: 178379.5312\n",
            "Epoch 2/10\n",
            "1264/1264 [==============================] - 2s 2ms/step - loss: 61180.8203\n",
            "Epoch 3/10\n",
            "1264/1264 [==============================] - 2s 2ms/step - loss: 61303.7266\n",
            "Epoch 4/10\n",
            "1264/1264 [==============================] - 3s 2ms/step - loss: 61395.1680\n",
            "Epoch 5/10\n",
            "1264/1264 [==============================] - 4s 3ms/step - loss: 61611.6328\n",
            "Epoch 6/10\n",
            "1264/1264 [==============================] - 2s 2ms/step - loss: 61380.6602\n",
            "Epoch 7/10\n",
            "1264/1264 [==============================] - 2s 2ms/step - loss: 61491.6406\n",
            "Epoch 8/10\n",
            "1264/1264 [==============================] - 2s 2ms/step - loss: 61382.0469\n",
            "Epoch 9/10\n",
            "1264/1264 [==============================] - 2s 2ms/step - loss: 61359.9141\n",
            "Epoch 10/10\n",
            "1264/1264 [==============================] - 3s 3ms/step - loss: 61375.0430\n"
          ]
        },
        {
          "output_type": "execute_result",
          "data": {
            "text/plain": [
              "<keras.callbacks.History at 0x7fef524cb310>"
            ]
          },
          "metadata": {},
          "execution_count": 42
        }
      ]
    },
    {
      "cell_type": "code",
      "source": [
        "#predict\n",
        "pred = model4.predict(x_test)\n",
        "\n",
        "# R2 score\n",
        "print(\"R2:\", round(r2_score(y_test, pred), sigfigs=4))\n",
        "\n",
        "#RMSE\n",
        "print(\"RMSE:\",  round(sqrt(mean_squared_error(y_test, pred)), sigfigs=4))\n",
        "\n",
        "#MAE\n",
        "print(\"MAE:\", round(mean_absolute_error(y_test, pred), sigfigs=4))"
      ],
      "metadata": {
        "colab": {
          "base_uri": "https://localhost:8080/"
        },
        "id": "Dli6FPjiyUbq",
        "outputId": "7c704f85-9ed5-44c8-97da-9607c615c021"
      },
      "execution_count": null,
      "outputs": [
        {
          "output_type": "stream",
          "name": "stdout",
          "text": [
            "316/316 [==============================] - 1s 1ms/step\n",
            "R2: 0.9711\n",
            "RMSE: 228.1\n",
            "MAE: 129.0\n"
          ]
        }
      ]
    },
    {
      "cell_type": "markdown",
      "source": [
        "#NN #5\n",
        "- 3 dense layers\n",
        "- 96 to 1000 to 8 to 48\n",
        "- 20 epochs"
      ],
      "metadata": {
        "id": "rILYGpBeyr0_"
      }
    },
    {
      "cell_type": "code",
      "source": [
        "# define the keras model\n",
        "model5 = Sequential()\n",
        "model5.add(Dense(1000, input_dim=1, activation='relu'))\n",
        "model5.add(Dense(8, activation='relu'))\n",
        "model5.add(Dense(1))\n",
        "model5.compile(loss='mse', optimizer='adam')\n",
        "# fit the keras model on the dataset\n",
        "model5.fit(x_train, y_train, epochs=20)"
      ],
      "metadata": {
        "colab": {
          "base_uri": "https://localhost:8080/"
        },
        "id": "dyUCrOpfyt8x",
        "outputId": "c8564369-4f5e-4fa9-83b0-4e47412715bb"
      },
      "execution_count": null,
      "outputs": [
        {
          "output_type": "stream",
          "name": "stdout",
          "text": [
            "Epoch 1/20\n",
            "1264/1264 [==============================] - 4s 2ms/step - loss: 77399.6641\n",
            "Epoch 2/20\n",
            "1264/1264 [==============================] - 3s 2ms/step - loss: 62923.9375\n",
            "Epoch 3/20\n",
            "1264/1264 [==============================] - 4s 3ms/step - loss: 62537.9883\n",
            "Epoch 4/20\n",
            "1264/1264 [==============================] - 4s 3ms/step - loss: 62413.6602\n",
            "Epoch 5/20\n",
            "1264/1264 [==============================] - 3s 2ms/step - loss: 62268.8984\n",
            "Epoch 6/20\n",
            "1264/1264 [==============================] - 3s 2ms/step - loss: 61981.2148\n",
            "Epoch 7/20\n",
            "1264/1264 [==============================] - 3s 3ms/step - loss: 62236.3789\n",
            "Epoch 8/20\n",
            "1264/1264 [==============================] - 4s 3ms/step - loss: 61874.0273\n",
            "Epoch 9/20\n",
            "1264/1264 [==============================] - 3s 2ms/step - loss: 61909.0742\n",
            "Epoch 10/20\n",
            "1264/1264 [==============================] - 3s 2ms/step - loss: 62164.6250\n",
            "Epoch 11/20\n",
            "1264/1264 [==============================] - 3s 2ms/step - loss: 61856.7305\n",
            "Epoch 12/20\n",
            "1264/1264 [==============================] - 5s 4ms/step - loss: 61841.0391\n",
            "Epoch 13/20\n",
            "1264/1264 [==============================] - 4s 3ms/step - loss: 61910.8047\n",
            "Epoch 14/20\n",
            "1264/1264 [==============================] - 3s 2ms/step - loss: 61678.8711\n",
            "Epoch 15/20\n",
            "1264/1264 [==============================] - 3s 2ms/step - loss: 61641.9727\n",
            "Epoch 16/20\n",
            "1264/1264 [==============================] - 4s 3ms/step - loss: 61638.2539\n",
            "Epoch 17/20\n",
            "1264/1264 [==============================] - 3s 2ms/step - loss: 61401.1641\n",
            "Epoch 18/20\n",
            "1264/1264 [==============================] - 3s 2ms/step - loss: 61646.9766\n",
            "Epoch 19/20\n",
            "1264/1264 [==============================] - 3s 2ms/step - loss: 61840.8789\n",
            "Epoch 20/20\n",
            "1264/1264 [==============================] - 4s 3ms/step - loss: 61367.9727\n"
          ]
        },
        {
          "output_type": "execute_result",
          "data": {
            "text/plain": [
              "<keras.callbacks.History at 0x7fef523c0490>"
            ]
          },
          "metadata": {},
          "execution_count": 44
        }
      ]
    },
    {
      "cell_type": "code",
      "source": [
        "#predict\n",
        "pred = model5.predict(x_test)\n",
        "\n",
        "# R2 score\n",
        "print(\"R2:\", round(r2_score(y_test, pred), sigfigs=4))\n",
        "\n",
        "#RMSE\n",
        "print(\"RMSE:\",  round(sqrt(mean_squared_error(y_test, pred)), sigfigs=4))\n",
        "\n",
        "#MAE\n",
        "print(\"MAE:\", round(mean_absolute_error(y_test, pred), sigfigs=4))"
      ],
      "metadata": {
        "colab": {
          "base_uri": "https://localhost:8080/"
        },
        "id": "5cE_IHS5yyHN",
        "outputId": "0a15977d-0d89-4ba5-efbf-dbc9974ce279"
      },
      "execution_count": null,
      "outputs": [
        {
          "output_type": "stream",
          "name": "stdout",
          "text": [
            "316/316 [==============================] - 1s 2ms/step\n",
            "R2: 0.9713\n",
            "RMSE: 227.5\n",
            "MAE: 131.6\n"
          ]
        }
      ]
    },
    {
      "cell_type": "markdown",
      "source": [
        "#NN #6\n",
        "- 3 dense layers\n",
        "- 96 to 100 to 100 to 48\n",
        "- 30 epochs"
      ],
      "metadata": {
        "id": "sX2324PRzLCp"
      }
    },
    {
      "cell_type": "code",
      "source": [
        "model6 = Sequential()\n",
        "model6.add(Input(shape=(1,)))\n",
        "model6.add(Dense(100, activation = 'relu'))\n",
        "model6.add(Dense(100, activation = 'relu'))\n",
        "model6.add(Dense(1, activation = 'relu'))\n",
        "model6.compile(loss='mse', optimizer='adam')\n",
        "model6.fit(x_train, y_train, epochs=30)"
      ],
      "metadata": {
        "colab": {
          "base_uri": "https://localhost:8080/"
        },
        "id": "xzG-XsdhzPr0",
        "outputId": "ad0b74fc-8ff2-4c1d-fdcd-4325d1ff7478"
      },
      "execution_count": null,
      "outputs": [
        {
          "output_type": "stream",
          "name": "stdout",
          "text": [
            "Epoch 1/30\n",
            "1264/1264 [==============================] - 4s 3ms/step - loss: 80922.8516\n",
            "Epoch 2/30\n",
            "1264/1264 [==============================] - 3s 2ms/step - loss: 62125.4062\n",
            "Epoch 3/30\n",
            "1264/1264 [==============================] - 2s 2ms/step - loss: 62314.9023\n",
            "Epoch 4/30\n",
            "1264/1264 [==============================] - 2s 2ms/step - loss: 61928.6836\n",
            "Epoch 5/30\n",
            "1264/1264 [==============================] - 2s 2ms/step - loss: 61748.4570\n",
            "Epoch 6/30\n",
            "1264/1264 [==============================] - 3s 2ms/step - loss: 61789.8125\n",
            "Epoch 7/30\n",
            "1264/1264 [==============================] - 4s 3ms/step - loss: 62227.0742\n",
            "Epoch 8/30\n",
            "1264/1264 [==============================] - 2s 2ms/step - loss: 62217.2266\n",
            "Epoch 9/30\n",
            "1264/1264 [==============================] - 2s 2ms/step - loss: 61810.8555\n",
            "Epoch 10/30\n",
            "1264/1264 [==============================] - 3s 2ms/step - loss: 61686.2930\n",
            "Epoch 11/30\n",
            "1264/1264 [==============================] - 4s 3ms/step - loss: 61757.4883\n",
            "Epoch 12/30\n",
            "1264/1264 [==============================] - 6s 5ms/step - loss: 61817.3398\n",
            "Epoch 13/30\n",
            "1264/1264 [==============================] - 5s 4ms/step - loss: 61452.5977\n",
            "Epoch 14/30\n",
            "1264/1264 [==============================] - 4s 3ms/step - loss: 61938.4492\n",
            "Epoch 15/30\n",
            "1264/1264 [==============================] - 4s 3ms/step - loss: 61849.7930\n",
            "Epoch 16/30\n",
            "1264/1264 [==============================] - 3s 2ms/step - loss: 61887.2695\n",
            "Epoch 17/30\n",
            "1264/1264 [==============================] - 2s 2ms/step - loss: 61740.4961\n",
            "Epoch 18/30\n",
            "1264/1264 [==============================] - 2s 2ms/step - loss: 61585.9844\n",
            "Epoch 19/30\n",
            "1264/1264 [==============================] - 3s 2ms/step - loss: 61839.5273\n",
            "Epoch 20/30\n",
            "1264/1264 [==============================] - 4s 3ms/step - loss: 61628.6484\n",
            "Epoch 21/30\n",
            "1264/1264 [==============================] - 3s 2ms/step - loss: 61665.3984\n",
            "Epoch 22/30\n",
            "1264/1264 [==============================] - 2s 2ms/step - loss: 61799.4609\n",
            "Epoch 23/30\n",
            "1264/1264 [==============================] - 3s 2ms/step - loss: 61486.0781\n",
            "Epoch 24/30\n",
            "1264/1264 [==============================] - 4s 3ms/step - loss: 61485.7383\n",
            "Epoch 25/30\n",
            "1264/1264 [==============================] - 6s 5ms/step - loss: 61466.9531\n",
            "Epoch 26/30\n",
            "1264/1264 [==============================] - 4s 3ms/step - loss: 61357.6641\n",
            "Epoch 27/30\n",
            "1264/1264 [==============================] - 2s 2ms/step - loss: 61562.0547\n",
            "Epoch 28/30\n",
            "1264/1264 [==============================] - 3s 2ms/step - loss: 61462.1133\n",
            "Epoch 29/30\n",
            "1264/1264 [==============================] - 4s 3ms/step - loss: 61395.6641\n",
            "Epoch 30/30\n",
            "1264/1264 [==============================] - 2s 2ms/step - loss: 61492.6289\n"
          ]
        },
        {
          "output_type": "execute_result",
          "data": {
            "text/plain": [
              "<keras.callbacks.History at 0x7f33f3777cd0>"
            ]
          },
          "metadata": {},
          "execution_count": 20
        }
      ]
    },
    {
      "cell_type": "code",
      "source": [
        "#predict\n",
        "pred = model6.predict(x_test)\n",
        "\n",
        "# R2 score\n",
        "print(\"R2:\", round(r2_score(y_test, pred), sigfigs=4))\n",
        "\n",
        "#RMSE\n",
        "print(\"RMSE:\",  round(sqrt(mean_squared_error(y_test, pred)), sigfigs=4))\n",
        "\n",
        "#MAE\n",
        "print(\"MAE:\", round(mean_absolute_error(y_test, pred), sigfigs=4))"
      ],
      "metadata": {
        "colab": {
          "base_uri": "https://localhost:8080/"
        },
        "id": "pl332p-ozdaZ",
        "outputId": "c54c4e9e-f13e-40a1-b788-e9b164783362"
      },
      "execution_count": null,
      "outputs": [
        {
          "output_type": "stream",
          "name": "stdout",
          "text": [
            "316/316 [==============================] - 0s 1ms/step\n",
            "R2: 0.9698\n",
            "RMSE: 233.2\n",
            "MAE: 146.5\n"
          ]
        }
      ]
    },
    {
      "cell_type": "code",
      "source": [
        "pred = pred.flatten()\n",
        "\n",
        "# Create the DataFrame 'test_df_2'\n",
        "nwb_nn6 = pd.DataFrame({'pred': pred, 'y_test': y_test['LV ActivePower (kW)']})\n",
        "\n",
        "# Print the DataFrame\n",
        "nwb_nn6.head()"
      ],
      "metadata": {
        "colab": {
          "base_uri": "https://localhost:8080/",
          "height": 206
        },
        "id": "Ow2qMrazgUFu",
        "outputId": "45359366-8432-4616-d544-0e9de8656ba5"
      },
      "execution_count": null,
      "outputs": [
        {
          "output_type": "execute_result",
          "data": {
            "text/plain": [
              "            pred  y_test\n",
              "40423  10.521995     0.0\n",
              "40424  10.521995     0.0\n",
              "40425  10.521995     0.0\n",
              "40426  10.521995     0.0\n",
              "40427  10.521995     0.0"
            ],
            "text/html": [
              "\n",
              "  <div id=\"df-d9335991-efe8-4462-bd87-c32c9ac1d2e6\">\n",
              "    <div class=\"colab-df-container\">\n",
              "      <div>\n",
              "<style scoped>\n",
              "    .dataframe tbody tr th:only-of-type {\n",
              "        vertical-align: middle;\n",
              "    }\n",
              "\n",
              "    .dataframe tbody tr th {\n",
              "        vertical-align: top;\n",
              "    }\n",
              "\n",
              "    .dataframe thead th {\n",
              "        text-align: right;\n",
              "    }\n",
              "</style>\n",
              "<table border=\"1\" class=\"dataframe\">\n",
              "  <thead>\n",
              "    <tr style=\"text-align: right;\">\n",
              "      <th></th>\n",
              "      <th>pred</th>\n",
              "      <th>y_test</th>\n",
              "    </tr>\n",
              "  </thead>\n",
              "  <tbody>\n",
              "    <tr>\n",
              "      <th>40423</th>\n",
              "      <td>10.521995</td>\n",
              "      <td>0.0</td>\n",
              "    </tr>\n",
              "    <tr>\n",
              "      <th>40424</th>\n",
              "      <td>10.521995</td>\n",
              "      <td>0.0</td>\n",
              "    </tr>\n",
              "    <tr>\n",
              "      <th>40425</th>\n",
              "      <td>10.521995</td>\n",
              "      <td>0.0</td>\n",
              "    </tr>\n",
              "    <tr>\n",
              "      <th>40426</th>\n",
              "      <td>10.521995</td>\n",
              "      <td>0.0</td>\n",
              "    </tr>\n",
              "    <tr>\n",
              "      <th>40427</th>\n",
              "      <td>10.521995</td>\n",
              "      <td>0.0</td>\n",
              "    </tr>\n",
              "  </tbody>\n",
              "</table>\n",
              "</div>\n",
              "      <button class=\"colab-df-convert\" onclick=\"convertToInteractive('df-d9335991-efe8-4462-bd87-c32c9ac1d2e6')\"\n",
              "              title=\"Convert this dataframe to an interactive table.\"\n",
              "              style=\"display:none;\">\n",
              "        \n",
              "  <svg xmlns=\"http://www.w3.org/2000/svg\" height=\"24px\"viewBox=\"0 0 24 24\"\n",
              "       width=\"24px\">\n",
              "    <path d=\"M0 0h24v24H0V0z\" fill=\"none\"/>\n",
              "    <path d=\"M18.56 5.44l.94 2.06.94-2.06 2.06-.94-2.06-.94-.94-2.06-.94 2.06-2.06.94zm-11 1L8.5 8.5l.94-2.06 2.06-.94-2.06-.94L8.5 2.5l-.94 2.06-2.06.94zm10 10l.94 2.06.94-2.06 2.06-.94-2.06-.94-.94-2.06-.94 2.06-2.06.94z\"/><path d=\"M17.41 7.96l-1.37-1.37c-.4-.4-.92-.59-1.43-.59-.52 0-1.04.2-1.43.59L10.3 9.45l-7.72 7.72c-.78.78-.78 2.05 0 2.83L4 21.41c.39.39.9.59 1.41.59.51 0 1.02-.2 1.41-.59l7.78-7.78 2.81-2.81c.8-.78.8-2.07 0-2.86zM5.41 20L4 18.59l7.72-7.72 1.47 1.35L5.41 20z\"/>\n",
              "  </svg>\n",
              "      </button>\n",
              "      \n",
              "  <style>\n",
              "    .colab-df-container {\n",
              "      display:flex;\n",
              "      flex-wrap:wrap;\n",
              "      gap: 12px;\n",
              "    }\n",
              "\n",
              "    .colab-df-convert {\n",
              "      background-color: #E8F0FE;\n",
              "      border: none;\n",
              "      border-radius: 50%;\n",
              "      cursor: pointer;\n",
              "      display: none;\n",
              "      fill: #1967D2;\n",
              "      height: 32px;\n",
              "      padding: 0 0 0 0;\n",
              "      width: 32px;\n",
              "    }\n",
              "\n",
              "    .colab-df-convert:hover {\n",
              "      background-color: #E2EBFA;\n",
              "      box-shadow: 0px 1px 2px rgba(60, 64, 67, 0.3), 0px 1px 3px 1px rgba(60, 64, 67, 0.15);\n",
              "      fill: #174EA6;\n",
              "    }\n",
              "\n",
              "    [theme=dark] .colab-df-convert {\n",
              "      background-color: #3B4455;\n",
              "      fill: #D2E3FC;\n",
              "    }\n",
              "\n",
              "    [theme=dark] .colab-df-convert:hover {\n",
              "      background-color: #434B5C;\n",
              "      box-shadow: 0px 1px 3px 1px rgba(0, 0, 0, 0.15);\n",
              "      filter: drop-shadow(0px 1px 2px rgba(0, 0, 0, 0.3));\n",
              "      fill: #FFFFFF;\n",
              "    }\n",
              "  </style>\n",
              "\n",
              "      <script>\n",
              "        const buttonEl =\n",
              "          document.querySelector('#df-d9335991-efe8-4462-bd87-c32c9ac1d2e6 button.colab-df-convert');\n",
              "        buttonEl.style.display =\n",
              "          google.colab.kernel.accessAllowed ? 'block' : 'none';\n",
              "\n",
              "        async function convertToInteractive(key) {\n",
              "          const element = document.querySelector('#df-d9335991-efe8-4462-bd87-c32c9ac1d2e6');\n",
              "          const dataTable =\n",
              "            await google.colab.kernel.invokeFunction('convertToInteractive',\n",
              "                                                     [key], {});\n",
              "          if (!dataTable) return;\n",
              "\n",
              "          const docLinkHtml = 'Like what you see? Visit the ' +\n",
              "            '<a target=\"_blank\" href=https://colab.research.google.com/notebooks/data_table.ipynb>data table notebook</a>'\n",
              "            + ' to learn more about interactive tables.';\n",
              "          element.innerHTML = '';\n",
              "          dataTable['output_type'] = 'display_data';\n",
              "          await google.colab.output.renderOutput(dataTable, element);\n",
              "          const docLink = document.createElement('div');\n",
              "          docLink.innerHTML = docLinkHtml;\n",
              "          element.appendChild(docLink);\n",
              "        }\n",
              "      </script>\n",
              "    </div>\n",
              "  </div>\n",
              "  "
            ]
          },
          "metadata": {},
          "execution_count": 30
        }
      ]
    },
    {
      "cell_type": "code",
      "source": [
        "from google.colab import files\n",
        "nwb_nn6.to_csv('nwb_nn6.csv')\n",
        "files.download('nwb_nn6.csv')"
      ],
      "metadata": {
        "colab": {
          "base_uri": "https://localhost:8080/",
          "height": 17
        },
        "id": "UwNIHKlsgxCi",
        "outputId": "30627bae-7f77-4603-b192-1e1d9a472e56"
      },
      "execution_count": null,
      "outputs": [
        {
          "output_type": "display_data",
          "data": {
            "text/plain": [
              "<IPython.core.display.Javascript object>"
            ],
            "application/javascript": [
              "\n",
              "    async function download(id, filename, size) {\n",
              "      if (!google.colab.kernel.accessAllowed) {\n",
              "        return;\n",
              "      }\n",
              "      const div = document.createElement('div');\n",
              "      const label = document.createElement('label');\n",
              "      label.textContent = `Downloading \"${filename}\": `;\n",
              "      div.appendChild(label);\n",
              "      const progress = document.createElement('progress');\n",
              "      progress.max = size;\n",
              "      div.appendChild(progress);\n",
              "      document.body.appendChild(div);\n",
              "\n",
              "      const buffers = [];\n",
              "      let downloaded = 0;\n",
              "\n",
              "      const channel = await google.colab.kernel.comms.open(id);\n",
              "      // Send a message to notify the kernel that we're ready.\n",
              "      channel.send({})\n",
              "\n",
              "      for await (const message of channel.messages) {\n",
              "        // Send a message to notify the kernel that we're ready.\n",
              "        channel.send({})\n",
              "        if (message.buffers) {\n",
              "          for (const buffer of message.buffers) {\n",
              "            buffers.push(buffer);\n",
              "            downloaded += buffer.byteLength;\n",
              "            progress.value = downloaded;\n",
              "          }\n",
              "        }\n",
              "      }\n",
              "      const blob = new Blob(buffers, {type: 'application/binary'});\n",
              "      const a = document.createElement('a');\n",
              "      a.href = window.URL.createObjectURL(blob);\n",
              "      a.download = filename;\n",
              "      div.appendChild(a);\n",
              "      a.click();\n",
              "      div.remove();\n",
              "    }\n",
              "  "
            ]
          },
          "metadata": {}
        },
        {
          "output_type": "display_data",
          "data": {
            "text/plain": [
              "<IPython.core.display.Javascript object>"
            ],
            "application/javascript": [
              "download(\"download_b036e65e-2778-4c7c-b9cc-30046eb82ac9\", \"nwb_nn6.csv\", 300990)"
            ]
          },
          "metadata": {}
        }
      ]
    },
    {
      "cell_type": "markdown",
      "source": [
        "#NN #7\n",
        "- 3 dense layers\n",
        "- 96 to 1000 to 8 to 48\n",
        "- 30 epochs"
      ],
      "metadata": {
        "id": "FuZf89_VzhPO"
      }
    },
    {
      "cell_type": "code",
      "source": [
        "# define the keras model\n",
        "model7 = Sequential()\n",
        "model7.add(Dense(1000, input_dim=1, activation='relu'))\n",
        "model7.add(Dense(8, activation='relu'))\n",
        "model7.add(Dense(1))\n",
        "model7.compile(loss='mse', optimizer='adam')\n",
        "# fit the keras model on the dataset\n",
        "model7.fit(x_train, y_train, epochs=30)"
      ],
      "metadata": {
        "colab": {
          "base_uri": "https://localhost:8080/"
        },
        "id": "DDVAYWcOzvIo",
        "outputId": "1edc4d2a-30e3-413a-a74d-a58509d8424a"
      },
      "execution_count": null,
      "outputs": [
        {
          "output_type": "stream",
          "name": "stdout",
          "text": [
            "Epoch 1/30\n",
            "1264/1264 [==============================] - 5s 3ms/step - loss: 78726.0000\n",
            "Epoch 2/30\n",
            "1264/1264 [==============================] - 3s 3ms/step - loss: 62679.6914\n",
            "Epoch 3/30\n",
            "1264/1264 [==============================] - 3s 2ms/step - loss: 62146.8242\n",
            "Epoch 4/30\n",
            "1264/1264 [==============================] - 3s 2ms/step - loss: 62434.2734\n",
            "Epoch 5/30\n",
            "1264/1264 [==============================] - 3s 3ms/step - loss: 62160.1797\n",
            "Epoch 6/30\n",
            "1264/1264 [==============================] - 4s 3ms/step - loss: 62188.1328\n",
            "Epoch 7/30\n",
            "1264/1264 [==============================] - 4s 3ms/step - loss: 62076.6641\n",
            "Epoch 8/30\n",
            "1264/1264 [==============================] - 4s 3ms/step - loss: 61968.6562\n",
            "Epoch 9/30\n",
            "1264/1264 [==============================] - 4s 3ms/step - loss: 61897.8711\n",
            "Epoch 10/30\n",
            "1264/1264 [==============================] - 3s 3ms/step - loss: 61836.9531\n",
            "Epoch 11/30\n",
            "1264/1264 [==============================] - 3s 2ms/step - loss: 61806.6875\n",
            "Epoch 12/30\n",
            "1264/1264 [==============================] - 3s 2ms/step - loss: 61666.7812\n",
            "Epoch 13/30\n",
            "1264/1264 [==============================] - 4s 3ms/step - loss: 61956.1055\n",
            "Epoch 14/30\n",
            "1264/1264 [==============================] - 4s 3ms/step - loss: 61792.9453\n",
            "Epoch 15/30\n",
            "1264/1264 [==============================] - 3s 2ms/step - loss: 61674.9883\n",
            "Epoch 16/30\n",
            "1264/1264 [==============================] - 3s 2ms/step - loss: 61816.5508\n",
            "Epoch 17/30\n",
            "1264/1264 [==============================] - 3s 3ms/step - loss: 61710.5039\n",
            "Epoch 18/30\n",
            "1264/1264 [==============================] - 4s 3ms/step - loss: 61508.9219\n",
            "Epoch 19/30\n",
            "1264/1264 [==============================] - 3s 2ms/step - loss: 61378.6016\n",
            "Epoch 20/30\n",
            "1264/1264 [==============================] - 3s 2ms/step - loss: 61432.2812\n",
            "Epoch 21/30\n",
            "1264/1264 [==============================] - 3s 2ms/step - loss: 61513.5273\n",
            "Epoch 22/30\n",
            "1264/1264 [==============================] - 4s 4ms/step - loss: 61538.6172\n",
            "Epoch 23/30\n",
            "1264/1264 [==============================] - 3s 2ms/step - loss: 61492.9180\n",
            "Epoch 24/30\n",
            "1264/1264 [==============================] - 3s 3ms/step - loss: 61527.2617\n",
            "Epoch 25/30\n",
            "1264/1264 [==============================] - 3s 2ms/step - loss: 61620.2305\n",
            "Epoch 26/30\n",
            "1264/1264 [==============================] - 4s 3ms/step - loss: 61607.6797\n",
            "Epoch 27/30\n",
            "1264/1264 [==============================] - 3s 3ms/step - loss: 61477.1367\n",
            "Epoch 28/30\n",
            "1264/1264 [==============================] - 3s 2ms/step - loss: 61345.0977\n",
            "Epoch 29/30\n",
            "1264/1264 [==============================] - 3s 2ms/step - loss: 61432.5195\n",
            "Epoch 30/30\n",
            "1264/1264 [==============================] - 4s 3ms/step - loss: 61358.3164\n"
          ]
        },
        {
          "output_type": "execute_result",
          "data": {
            "text/plain": [
              "<keras.callbacks.History at 0x7fef52044a00>"
            ]
          },
          "metadata": {},
          "execution_count": 48
        }
      ]
    },
    {
      "cell_type": "code",
      "source": [
        "#predict\n",
        "pred = model7.predict(x_test)\n",
        "\n",
        "# R2 score\n",
        "print(\"R2:\", round(r2_score(y_test, pred), sigfigs=4))\n",
        "\n",
        "#RMSE\n",
        "print(\"RMSE:\",  round(sqrt(mean_squared_error(y_test, pred)), sigfigs=4))\n",
        "\n",
        "#MAE\n",
        "print(\"MAE:\", round(mean_absolute_error(y_test, pred), sigfigs=4))"
      ],
      "metadata": {
        "colab": {
          "base_uri": "https://localhost:8080/"
        },
        "id": "3X4bN38wz1a4",
        "outputId": "c57fd711-0ac9-4118-ebf9-59dc182fa3a4"
      },
      "execution_count": null,
      "outputs": [
        {
          "output_type": "stream",
          "name": "stdout",
          "text": [
            "316/316 [==============================] - 1s 2ms/step\n",
            "R2: 0.9712\n",
            "RMSE: 227.6\n",
            "MAE: 130.3\n"
          ]
        }
      ]
    }
  ]
}