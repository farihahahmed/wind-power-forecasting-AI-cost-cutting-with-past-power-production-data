{
  "nbformat": 4,
  "nbformat_minor": 0,
  "metadata": {
    "colab": {
      "provenance": [],
      "toc_visible": true,
      "mount_file_id": "1W4tIGm_m7a2CyZtWaZN8e6ebTuTsXE8_",
      "authorship_tag": "ABX9TyPt0guxeclWtEJ1GtHOFDvR",
      "include_colab_link": true
    },
    "kernelspec": {
      "name": "python3",
      "display_name": "Python 3"
    },
    "language_info": {
      "name": "python"
    }
  },
  "cells": [
    {
      "cell_type": "markdown",
      "metadata": {
        "id": "view-in-github",
        "colab_type": "text"
      },
      "source": [
        "<a href=\"https://colab.research.google.com/github/farihahahmed/wind-power-forecasting-AI-cost-cutting-with-past-power-production-data/blob/main/WB_Applying_ML.ipynb\" target=\"_parent\"><img src=\"https://colab.research.google.com/assets/colab-badge.svg\" alt=\"Open In Colab\"/></a>"
      ]
    },
    {
      "cell_type": "markdown",
      "source": [
        "#Setting it up"
      ],
      "metadata": {
        "id": "GxLQmIkbmhsi"
      }
    },
    {
      "cell_type": "code",
      "execution_count": null,
      "metadata": {
        "id": "p5eH0naCyiyq",
        "colab": {
          "base_uri": "https://localhost:8080/"
        },
        "outputId": "68712211-bb73-4343-899d-09fcd813c3c7"
      },
      "outputs": [
        {
          "output_type": "stream",
          "name": "stdout",
          "text": [
            "Mounted at /content/drive\n"
          ]
        }
      ],
      "source": [
        "#Mounting Google Drive\n",
        "from google.colab import drive\n",
        "drive.mount('/content/drive')"
      ]
    },
    {
      "cell_type": "code",
      "source": [
        "#Importing Our Data\n",
        "import pandas as pd\n",
        "\n",
        "x = pd.read_csv('/content/drive/MyDrive/HSA/WB_input.csv')\n",
        "y = pd.read_csv('/content/drive/MyDrive/HSA/WB_output.csv')"
      ],
      "metadata": {
        "id": "F_bWwHTpysk6"
      },
      "execution_count": null,
      "outputs": []
    },
    {
      "cell_type": "code",
      "source": [
        "x"
      ],
      "metadata": {
        "id": "Im9_vViNy9pW",
        "colab": {
          "base_uri": "https://localhost:8080/",
          "height": 423
        },
        "outputId": "b93c70bc-eed5-4c1e-97e0-15e920ae212f"
      },
      "execution_count": null,
      "outputs": [
        {
          "output_type": "execute_result",
          "data": {
            "text/plain": [
              "       Unnamed: 0  Wind Speed (m/s)  Wind Direction (°)\n",
              "0               0          5.311336          259.994904\n",
              "1               1          5.672167          268.641113\n",
              "2               2          5.216037          272.564789\n",
              "3               3          5.659674          271.258087\n",
              "4               4          5.577941          265.674286\n",
              "...           ...               ...                 ...\n",
              "50525       50525         11.404030           80.502724\n",
              "50526       50526          7.332648           84.062599\n",
              "50527       50527          8.435358           84.742500\n",
              "50528       50528          9.421366           84.297913\n",
              "50529       50529          9.979332           82.274620\n",
              "\n",
              "[50530 rows x 3 columns]"
            ],
            "text/html": [
              "\n",
              "  <div id=\"df-c979e5ad-4b64-49f2-a5b4-dca4c6a101a6\">\n",
              "    <div class=\"colab-df-container\">\n",
              "      <div>\n",
              "<style scoped>\n",
              "    .dataframe tbody tr th:only-of-type {\n",
              "        vertical-align: middle;\n",
              "    }\n",
              "\n",
              "    .dataframe tbody tr th {\n",
              "        vertical-align: top;\n",
              "    }\n",
              "\n",
              "    .dataframe thead th {\n",
              "        text-align: right;\n",
              "    }\n",
              "</style>\n",
              "<table border=\"1\" class=\"dataframe\">\n",
              "  <thead>\n",
              "    <tr style=\"text-align: right;\">\n",
              "      <th></th>\n",
              "      <th>Unnamed: 0</th>\n",
              "      <th>Wind Speed (m/s)</th>\n",
              "      <th>Wind Direction (°)</th>\n",
              "    </tr>\n",
              "  </thead>\n",
              "  <tbody>\n",
              "    <tr>\n",
              "      <th>0</th>\n",
              "      <td>0</td>\n",
              "      <td>5.311336</td>\n",
              "      <td>259.994904</td>\n",
              "    </tr>\n",
              "    <tr>\n",
              "      <th>1</th>\n",
              "      <td>1</td>\n",
              "      <td>5.672167</td>\n",
              "      <td>268.641113</td>\n",
              "    </tr>\n",
              "    <tr>\n",
              "      <th>2</th>\n",
              "      <td>2</td>\n",
              "      <td>5.216037</td>\n",
              "      <td>272.564789</td>\n",
              "    </tr>\n",
              "    <tr>\n",
              "      <th>3</th>\n",
              "      <td>3</td>\n",
              "      <td>5.659674</td>\n",
              "      <td>271.258087</td>\n",
              "    </tr>\n",
              "    <tr>\n",
              "      <th>4</th>\n",
              "      <td>4</td>\n",
              "      <td>5.577941</td>\n",
              "      <td>265.674286</td>\n",
              "    </tr>\n",
              "    <tr>\n",
              "      <th>...</th>\n",
              "      <td>...</td>\n",
              "      <td>...</td>\n",
              "      <td>...</td>\n",
              "    </tr>\n",
              "    <tr>\n",
              "      <th>50525</th>\n",
              "      <td>50525</td>\n",
              "      <td>11.404030</td>\n",
              "      <td>80.502724</td>\n",
              "    </tr>\n",
              "    <tr>\n",
              "      <th>50526</th>\n",
              "      <td>50526</td>\n",
              "      <td>7.332648</td>\n",
              "      <td>84.062599</td>\n",
              "    </tr>\n",
              "    <tr>\n",
              "      <th>50527</th>\n",
              "      <td>50527</td>\n",
              "      <td>8.435358</td>\n",
              "      <td>84.742500</td>\n",
              "    </tr>\n",
              "    <tr>\n",
              "      <th>50528</th>\n",
              "      <td>50528</td>\n",
              "      <td>9.421366</td>\n",
              "      <td>84.297913</td>\n",
              "    </tr>\n",
              "    <tr>\n",
              "      <th>50529</th>\n",
              "      <td>50529</td>\n",
              "      <td>9.979332</td>\n",
              "      <td>82.274620</td>\n",
              "    </tr>\n",
              "  </tbody>\n",
              "</table>\n",
              "<p>50530 rows × 3 columns</p>\n",
              "</div>\n",
              "      <button class=\"colab-df-convert\" onclick=\"convertToInteractive('df-c979e5ad-4b64-49f2-a5b4-dca4c6a101a6')\"\n",
              "              title=\"Convert this dataframe to an interactive table.\"\n",
              "              style=\"display:none;\">\n",
              "        \n",
              "  <svg xmlns=\"http://www.w3.org/2000/svg\" height=\"24px\"viewBox=\"0 0 24 24\"\n",
              "       width=\"24px\">\n",
              "    <path d=\"M0 0h24v24H0V0z\" fill=\"none\"/>\n",
              "    <path d=\"M18.56 5.44l.94 2.06.94-2.06 2.06-.94-2.06-.94-.94-2.06-.94 2.06-2.06.94zm-11 1L8.5 8.5l.94-2.06 2.06-.94-2.06-.94L8.5 2.5l-.94 2.06-2.06.94zm10 10l.94 2.06.94-2.06 2.06-.94-2.06-.94-.94-2.06-.94 2.06-2.06.94z\"/><path d=\"M17.41 7.96l-1.37-1.37c-.4-.4-.92-.59-1.43-.59-.52 0-1.04.2-1.43.59L10.3 9.45l-7.72 7.72c-.78.78-.78 2.05 0 2.83L4 21.41c.39.39.9.59 1.41.59.51 0 1.02-.2 1.41-.59l7.78-7.78 2.81-2.81c.8-.78.8-2.07 0-2.86zM5.41 20L4 18.59l7.72-7.72 1.47 1.35L5.41 20z\"/>\n",
              "  </svg>\n",
              "      </button>\n",
              "      \n",
              "  <style>\n",
              "    .colab-df-container {\n",
              "      display:flex;\n",
              "      flex-wrap:wrap;\n",
              "      gap: 12px;\n",
              "    }\n",
              "\n",
              "    .colab-df-convert {\n",
              "      background-color: #E8F0FE;\n",
              "      border: none;\n",
              "      border-radius: 50%;\n",
              "      cursor: pointer;\n",
              "      display: none;\n",
              "      fill: #1967D2;\n",
              "      height: 32px;\n",
              "      padding: 0 0 0 0;\n",
              "      width: 32px;\n",
              "    }\n",
              "\n",
              "    .colab-df-convert:hover {\n",
              "      background-color: #E2EBFA;\n",
              "      box-shadow: 0px 1px 2px rgba(60, 64, 67, 0.3), 0px 1px 3px 1px rgba(60, 64, 67, 0.15);\n",
              "      fill: #174EA6;\n",
              "    }\n",
              "\n",
              "    [theme=dark] .colab-df-convert {\n",
              "      background-color: #3B4455;\n",
              "      fill: #D2E3FC;\n",
              "    }\n",
              "\n",
              "    [theme=dark] .colab-df-convert:hover {\n",
              "      background-color: #434B5C;\n",
              "      box-shadow: 0px 1px 3px 1px rgba(0, 0, 0, 0.15);\n",
              "      filter: drop-shadow(0px 1px 2px rgba(0, 0, 0, 0.3));\n",
              "      fill: #FFFFFF;\n",
              "    }\n",
              "  </style>\n",
              "\n",
              "      <script>\n",
              "        const buttonEl =\n",
              "          document.querySelector('#df-c979e5ad-4b64-49f2-a5b4-dca4c6a101a6 button.colab-df-convert');\n",
              "        buttonEl.style.display =\n",
              "          google.colab.kernel.accessAllowed ? 'block' : 'none';\n",
              "\n",
              "        async function convertToInteractive(key) {\n",
              "          const element = document.querySelector('#df-c979e5ad-4b64-49f2-a5b4-dca4c6a101a6');\n",
              "          const dataTable =\n",
              "            await google.colab.kernel.invokeFunction('convertToInteractive',\n",
              "                                                     [key], {});\n",
              "          if (!dataTable) return;\n",
              "\n",
              "          const docLinkHtml = 'Like what you see? Visit the ' +\n",
              "            '<a target=\"_blank\" href=https://colab.research.google.com/notebooks/data_table.ipynb>data table notebook</a>'\n",
              "            + ' to learn more about interactive tables.';\n",
              "          element.innerHTML = '';\n",
              "          dataTable['output_type'] = 'display_data';\n",
              "          await google.colab.output.renderOutput(dataTable, element);\n",
              "          const docLink = document.createElement('div');\n",
              "          docLink.innerHTML = docLinkHtml;\n",
              "          element.appendChild(docLink);\n",
              "        }\n",
              "      </script>\n",
              "    </div>\n",
              "  </div>\n",
              "  "
            ]
          },
          "metadata": {},
          "execution_count": 4
        }
      ]
    },
    {
      "cell_type": "code",
      "source": [
        "y"
      ],
      "metadata": {
        "id": "UE2FEhJMzCG2",
        "colab": {
          "base_uri": "https://localhost:8080/",
          "height": 423
        },
        "outputId": "0f62cc71-b51f-407e-e9ad-bdd0eafd2bd9"
      },
      "execution_count": null,
      "outputs": [
        {
          "output_type": "execute_result",
          "data": {
            "text/plain": [
              "       Unnamed: 0  LV ActivePower (kW)\n",
              "0               0           380.047791\n",
              "1               1           453.769196\n",
              "2               2           306.376587\n",
              "3               3           419.645905\n",
              "4               4           380.650696\n",
              "...           ...                  ...\n",
              "50525       50525          2963.980957\n",
              "50526       50526          1684.353027\n",
              "50527       50527          2201.106934\n",
              "50528       50528          2515.694092\n",
              "50529       50529          2820.466064\n",
              "\n",
              "[50530 rows x 2 columns]"
            ],
            "text/html": [
              "\n",
              "  <div id=\"df-748f60ef-f105-42aa-b8c1-f1078c1407fb\">\n",
              "    <div class=\"colab-df-container\">\n",
              "      <div>\n",
              "<style scoped>\n",
              "    .dataframe tbody tr th:only-of-type {\n",
              "        vertical-align: middle;\n",
              "    }\n",
              "\n",
              "    .dataframe tbody tr th {\n",
              "        vertical-align: top;\n",
              "    }\n",
              "\n",
              "    .dataframe thead th {\n",
              "        text-align: right;\n",
              "    }\n",
              "</style>\n",
              "<table border=\"1\" class=\"dataframe\">\n",
              "  <thead>\n",
              "    <tr style=\"text-align: right;\">\n",
              "      <th></th>\n",
              "      <th>Unnamed: 0</th>\n",
              "      <th>LV ActivePower (kW)</th>\n",
              "    </tr>\n",
              "  </thead>\n",
              "  <tbody>\n",
              "    <tr>\n",
              "      <th>0</th>\n",
              "      <td>0</td>\n",
              "      <td>380.047791</td>\n",
              "    </tr>\n",
              "    <tr>\n",
              "      <th>1</th>\n",
              "      <td>1</td>\n",
              "      <td>453.769196</td>\n",
              "    </tr>\n",
              "    <tr>\n",
              "      <th>2</th>\n",
              "      <td>2</td>\n",
              "      <td>306.376587</td>\n",
              "    </tr>\n",
              "    <tr>\n",
              "      <th>3</th>\n",
              "      <td>3</td>\n",
              "      <td>419.645905</td>\n",
              "    </tr>\n",
              "    <tr>\n",
              "      <th>4</th>\n",
              "      <td>4</td>\n",
              "      <td>380.650696</td>\n",
              "    </tr>\n",
              "    <tr>\n",
              "      <th>...</th>\n",
              "      <td>...</td>\n",
              "      <td>...</td>\n",
              "    </tr>\n",
              "    <tr>\n",
              "      <th>50525</th>\n",
              "      <td>50525</td>\n",
              "      <td>2963.980957</td>\n",
              "    </tr>\n",
              "    <tr>\n",
              "      <th>50526</th>\n",
              "      <td>50526</td>\n",
              "      <td>1684.353027</td>\n",
              "    </tr>\n",
              "    <tr>\n",
              "      <th>50527</th>\n",
              "      <td>50527</td>\n",
              "      <td>2201.106934</td>\n",
              "    </tr>\n",
              "    <tr>\n",
              "      <th>50528</th>\n",
              "      <td>50528</td>\n",
              "      <td>2515.694092</td>\n",
              "    </tr>\n",
              "    <tr>\n",
              "      <th>50529</th>\n",
              "      <td>50529</td>\n",
              "      <td>2820.466064</td>\n",
              "    </tr>\n",
              "  </tbody>\n",
              "</table>\n",
              "<p>50530 rows × 2 columns</p>\n",
              "</div>\n",
              "      <button class=\"colab-df-convert\" onclick=\"convertToInteractive('df-748f60ef-f105-42aa-b8c1-f1078c1407fb')\"\n",
              "              title=\"Convert this dataframe to an interactive table.\"\n",
              "              style=\"display:none;\">\n",
              "        \n",
              "  <svg xmlns=\"http://www.w3.org/2000/svg\" height=\"24px\"viewBox=\"0 0 24 24\"\n",
              "       width=\"24px\">\n",
              "    <path d=\"M0 0h24v24H0V0z\" fill=\"none\"/>\n",
              "    <path d=\"M18.56 5.44l.94 2.06.94-2.06 2.06-.94-2.06-.94-.94-2.06-.94 2.06-2.06.94zm-11 1L8.5 8.5l.94-2.06 2.06-.94-2.06-.94L8.5 2.5l-.94 2.06-2.06.94zm10 10l.94 2.06.94-2.06 2.06-.94-2.06-.94-.94-2.06-.94 2.06-2.06.94z\"/><path d=\"M17.41 7.96l-1.37-1.37c-.4-.4-.92-.59-1.43-.59-.52 0-1.04.2-1.43.59L10.3 9.45l-7.72 7.72c-.78.78-.78 2.05 0 2.83L4 21.41c.39.39.9.59 1.41.59.51 0 1.02-.2 1.41-.59l7.78-7.78 2.81-2.81c.8-.78.8-2.07 0-2.86zM5.41 20L4 18.59l7.72-7.72 1.47 1.35L5.41 20z\"/>\n",
              "  </svg>\n",
              "      </button>\n",
              "      \n",
              "  <style>\n",
              "    .colab-df-container {\n",
              "      display:flex;\n",
              "      flex-wrap:wrap;\n",
              "      gap: 12px;\n",
              "    }\n",
              "\n",
              "    .colab-df-convert {\n",
              "      background-color: #E8F0FE;\n",
              "      border: none;\n",
              "      border-radius: 50%;\n",
              "      cursor: pointer;\n",
              "      display: none;\n",
              "      fill: #1967D2;\n",
              "      height: 32px;\n",
              "      padding: 0 0 0 0;\n",
              "      width: 32px;\n",
              "    }\n",
              "\n",
              "    .colab-df-convert:hover {\n",
              "      background-color: #E2EBFA;\n",
              "      box-shadow: 0px 1px 2px rgba(60, 64, 67, 0.3), 0px 1px 3px 1px rgba(60, 64, 67, 0.15);\n",
              "      fill: #174EA6;\n",
              "    }\n",
              "\n",
              "    [theme=dark] .colab-df-convert {\n",
              "      background-color: #3B4455;\n",
              "      fill: #D2E3FC;\n",
              "    }\n",
              "\n",
              "    [theme=dark] .colab-df-convert:hover {\n",
              "      background-color: #434B5C;\n",
              "      box-shadow: 0px 1px 3px 1px rgba(0, 0, 0, 0.15);\n",
              "      filter: drop-shadow(0px 1px 2px rgba(0, 0, 0, 0.3));\n",
              "      fill: #FFFFFF;\n",
              "    }\n",
              "  </style>\n",
              "\n",
              "      <script>\n",
              "        const buttonEl =\n",
              "          document.querySelector('#df-748f60ef-f105-42aa-b8c1-f1078c1407fb button.colab-df-convert');\n",
              "        buttonEl.style.display =\n",
              "          google.colab.kernel.accessAllowed ? 'block' : 'none';\n",
              "\n",
              "        async function convertToInteractive(key) {\n",
              "          const element = document.querySelector('#df-748f60ef-f105-42aa-b8c1-f1078c1407fb');\n",
              "          const dataTable =\n",
              "            await google.colab.kernel.invokeFunction('convertToInteractive',\n",
              "                                                     [key], {});\n",
              "          if (!dataTable) return;\n",
              "\n",
              "          const docLinkHtml = 'Like what you see? Visit the ' +\n",
              "            '<a target=\"_blank\" href=https://colab.research.google.com/notebooks/data_table.ipynb>data table notebook</a>'\n",
              "            + ' to learn more about interactive tables.';\n",
              "          element.innerHTML = '';\n",
              "          dataTable['output_type'] = 'display_data';\n",
              "          await google.colab.output.renderOutput(dataTable, element);\n",
              "          const docLink = document.createElement('div');\n",
              "          docLink.innerHTML = docLinkHtml;\n",
              "          element.appendChild(docLink);\n",
              "        }\n",
              "      </script>\n",
              "    </div>\n",
              "  </div>\n",
              "  "
            ]
          },
          "metadata": {},
          "execution_count": 5
        }
      ]
    },
    {
      "cell_type": "code",
      "source": [
        "x = x.drop([\"Unnamed: 0\"], axis=1)\n",
        "y = y.drop([\"Unnamed: 0\"], axis=1)"
      ],
      "metadata": {
        "id": "x9dBL3ux0k5j"
      },
      "execution_count": null,
      "outputs": []
    },
    {
      "cell_type": "code",
      "source": [
        "print(x.shape)\n",
        "print(y.shape)"
      ],
      "metadata": {
        "id": "J8kaRZCG0nSg",
        "colab": {
          "base_uri": "https://localhost:8080/"
        },
        "outputId": "b6a897a7-1166-4b80-f165-3dbf4196e54f"
      },
      "execution_count": null,
      "outputs": [
        {
          "output_type": "stream",
          "name": "stdout",
          "text": [
            "(50530, 2)\n",
            "(50530, 1)\n"
          ]
        }
      ]
    },
    {
      "cell_type": "code",
      "source": [
        "x"
      ],
      "metadata": {
        "id": "F-_o8suKllqF",
        "colab": {
          "base_uri": "https://localhost:8080/",
          "height": 423
        },
        "outputId": "cba7f580-57e4-49ab-cb36-66b2dcba13cd"
      },
      "execution_count": null,
      "outputs": [
        {
          "output_type": "execute_result",
          "data": {
            "text/plain": [
              "       Wind Speed (m/s)  Wind Direction (°)\n",
              "0              5.311336          259.994904\n",
              "1              5.672167          268.641113\n",
              "2              5.216037          272.564789\n",
              "3              5.659674          271.258087\n",
              "4              5.577941          265.674286\n",
              "...                 ...                 ...\n",
              "50525         11.404030           80.502724\n",
              "50526          7.332648           84.062599\n",
              "50527          8.435358           84.742500\n",
              "50528          9.421366           84.297913\n",
              "50529          9.979332           82.274620\n",
              "\n",
              "[50530 rows x 2 columns]"
            ],
            "text/html": [
              "\n",
              "  <div id=\"df-2165b605-22b4-4160-99b1-cf6b224e6d43\">\n",
              "    <div class=\"colab-df-container\">\n",
              "      <div>\n",
              "<style scoped>\n",
              "    .dataframe tbody tr th:only-of-type {\n",
              "        vertical-align: middle;\n",
              "    }\n",
              "\n",
              "    .dataframe tbody tr th {\n",
              "        vertical-align: top;\n",
              "    }\n",
              "\n",
              "    .dataframe thead th {\n",
              "        text-align: right;\n",
              "    }\n",
              "</style>\n",
              "<table border=\"1\" class=\"dataframe\">\n",
              "  <thead>\n",
              "    <tr style=\"text-align: right;\">\n",
              "      <th></th>\n",
              "      <th>Wind Speed (m/s)</th>\n",
              "      <th>Wind Direction (°)</th>\n",
              "    </tr>\n",
              "  </thead>\n",
              "  <tbody>\n",
              "    <tr>\n",
              "      <th>0</th>\n",
              "      <td>5.311336</td>\n",
              "      <td>259.994904</td>\n",
              "    </tr>\n",
              "    <tr>\n",
              "      <th>1</th>\n",
              "      <td>5.672167</td>\n",
              "      <td>268.641113</td>\n",
              "    </tr>\n",
              "    <tr>\n",
              "      <th>2</th>\n",
              "      <td>5.216037</td>\n",
              "      <td>272.564789</td>\n",
              "    </tr>\n",
              "    <tr>\n",
              "      <th>3</th>\n",
              "      <td>5.659674</td>\n",
              "      <td>271.258087</td>\n",
              "    </tr>\n",
              "    <tr>\n",
              "      <th>4</th>\n",
              "      <td>5.577941</td>\n",
              "      <td>265.674286</td>\n",
              "    </tr>\n",
              "    <tr>\n",
              "      <th>...</th>\n",
              "      <td>...</td>\n",
              "      <td>...</td>\n",
              "    </tr>\n",
              "    <tr>\n",
              "      <th>50525</th>\n",
              "      <td>11.404030</td>\n",
              "      <td>80.502724</td>\n",
              "    </tr>\n",
              "    <tr>\n",
              "      <th>50526</th>\n",
              "      <td>7.332648</td>\n",
              "      <td>84.062599</td>\n",
              "    </tr>\n",
              "    <tr>\n",
              "      <th>50527</th>\n",
              "      <td>8.435358</td>\n",
              "      <td>84.742500</td>\n",
              "    </tr>\n",
              "    <tr>\n",
              "      <th>50528</th>\n",
              "      <td>9.421366</td>\n",
              "      <td>84.297913</td>\n",
              "    </tr>\n",
              "    <tr>\n",
              "      <th>50529</th>\n",
              "      <td>9.979332</td>\n",
              "      <td>82.274620</td>\n",
              "    </tr>\n",
              "  </tbody>\n",
              "</table>\n",
              "<p>50530 rows × 2 columns</p>\n",
              "</div>\n",
              "      <button class=\"colab-df-convert\" onclick=\"convertToInteractive('df-2165b605-22b4-4160-99b1-cf6b224e6d43')\"\n",
              "              title=\"Convert this dataframe to an interactive table.\"\n",
              "              style=\"display:none;\">\n",
              "        \n",
              "  <svg xmlns=\"http://www.w3.org/2000/svg\" height=\"24px\"viewBox=\"0 0 24 24\"\n",
              "       width=\"24px\">\n",
              "    <path d=\"M0 0h24v24H0V0z\" fill=\"none\"/>\n",
              "    <path d=\"M18.56 5.44l.94 2.06.94-2.06 2.06-.94-2.06-.94-.94-2.06-.94 2.06-2.06.94zm-11 1L8.5 8.5l.94-2.06 2.06-.94-2.06-.94L8.5 2.5l-.94 2.06-2.06.94zm10 10l.94 2.06.94-2.06 2.06-.94-2.06-.94-.94-2.06-.94 2.06-2.06.94z\"/><path d=\"M17.41 7.96l-1.37-1.37c-.4-.4-.92-.59-1.43-.59-.52 0-1.04.2-1.43.59L10.3 9.45l-7.72 7.72c-.78.78-.78 2.05 0 2.83L4 21.41c.39.39.9.59 1.41.59.51 0 1.02-.2 1.41-.59l7.78-7.78 2.81-2.81c.8-.78.8-2.07 0-2.86zM5.41 20L4 18.59l7.72-7.72 1.47 1.35L5.41 20z\"/>\n",
              "  </svg>\n",
              "      </button>\n",
              "      \n",
              "  <style>\n",
              "    .colab-df-container {\n",
              "      display:flex;\n",
              "      flex-wrap:wrap;\n",
              "      gap: 12px;\n",
              "    }\n",
              "\n",
              "    .colab-df-convert {\n",
              "      background-color: #E8F0FE;\n",
              "      border: none;\n",
              "      border-radius: 50%;\n",
              "      cursor: pointer;\n",
              "      display: none;\n",
              "      fill: #1967D2;\n",
              "      height: 32px;\n",
              "      padding: 0 0 0 0;\n",
              "      width: 32px;\n",
              "    }\n",
              "\n",
              "    .colab-df-convert:hover {\n",
              "      background-color: #E2EBFA;\n",
              "      box-shadow: 0px 1px 2px rgba(60, 64, 67, 0.3), 0px 1px 3px 1px rgba(60, 64, 67, 0.15);\n",
              "      fill: #174EA6;\n",
              "    }\n",
              "\n",
              "    [theme=dark] .colab-df-convert {\n",
              "      background-color: #3B4455;\n",
              "      fill: #D2E3FC;\n",
              "    }\n",
              "\n",
              "    [theme=dark] .colab-df-convert:hover {\n",
              "      background-color: #434B5C;\n",
              "      box-shadow: 0px 1px 3px 1px rgba(0, 0, 0, 0.15);\n",
              "      filter: drop-shadow(0px 1px 2px rgba(0, 0, 0, 0.3));\n",
              "      fill: #FFFFFF;\n",
              "    }\n",
              "  </style>\n",
              "\n",
              "      <script>\n",
              "        const buttonEl =\n",
              "          document.querySelector('#df-2165b605-22b4-4160-99b1-cf6b224e6d43 button.colab-df-convert');\n",
              "        buttonEl.style.display =\n",
              "          google.colab.kernel.accessAllowed ? 'block' : 'none';\n",
              "\n",
              "        async function convertToInteractive(key) {\n",
              "          const element = document.querySelector('#df-2165b605-22b4-4160-99b1-cf6b224e6d43');\n",
              "          const dataTable =\n",
              "            await google.colab.kernel.invokeFunction('convertToInteractive',\n",
              "                                                     [key], {});\n",
              "          if (!dataTable) return;\n",
              "\n",
              "          const docLinkHtml = 'Like what you see? Visit the ' +\n",
              "            '<a target=\"_blank\" href=https://colab.research.google.com/notebooks/data_table.ipynb>data table notebook</a>'\n",
              "            + ' to learn more about interactive tables.';\n",
              "          element.innerHTML = '';\n",
              "          dataTable['output_type'] = 'display_data';\n",
              "          await google.colab.output.renderOutput(dataTable, element);\n",
              "          const docLink = document.createElement('div');\n",
              "          docLink.innerHTML = docLinkHtml;\n",
              "          element.appendChild(docLink);\n",
              "        }\n",
              "      </script>\n",
              "    </div>\n",
              "  </div>\n",
              "  "
            ]
          },
          "metadata": {},
          "execution_count": 8
        }
      ]
    },
    {
      "cell_type": "code",
      "source": [
        "y"
      ],
      "metadata": {
        "id": "BMjdQ004lmvS",
        "colab": {
          "base_uri": "https://localhost:8080/",
          "height": 423
        },
        "outputId": "ce16f375-f5df-40e6-ae02-aff18cacc99a"
      },
      "execution_count": null,
      "outputs": [
        {
          "output_type": "execute_result",
          "data": {
            "text/plain": [
              "       LV ActivePower (kW)\n",
              "0               380.047791\n",
              "1               453.769196\n",
              "2               306.376587\n",
              "3               419.645905\n",
              "4               380.650696\n",
              "...                    ...\n",
              "50525          2963.980957\n",
              "50526          1684.353027\n",
              "50527          2201.106934\n",
              "50528          2515.694092\n",
              "50529          2820.466064\n",
              "\n",
              "[50530 rows x 1 columns]"
            ],
            "text/html": [
              "\n",
              "  <div id=\"df-81c370ba-7090-4f44-8117-2b10667ef61d\">\n",
              "    <div class=\"colab-df-container\">\n",
              "      <div>\n",
              "<style scoped>\n",
              "    .dataframe tbody tr th:only-of-type {\n",
              "        vertical-align: middle;\n",
              "    }\n",
              "\n",
              "    .dataframe tbody tr th {\n",
              "        vertical-align: top;\n",
              "    }\n",
              "\n",
              "    .dataframe thead th {\n",
              "        text-align: right;\n",
              "    }\n",
              "</style>\n",
              "<table border=\"1\" class=\"dataframe\">\n",
              "  <thead>\n",
              "    <tr style=\"text-align: right;\">\n",
              "      <th></th>\n",
              "      <th>LV ActivePower (kW)</th>\n",
              "    </tr>\n",
              "  </thead>\n",
              "  <tbody>\n",
              "    <tr>\n",
              "      <th>0</th>\n",
              "      <td>380.047791</td>\n",
              "    </tr>\n",
              "    <tr>\n",
              "      <th>1</th>\n",
              "      <td>453.769196</td>\n",
              "    </tr>\n",
              "    <tr>\n",
              "      <th>2</th>\n",
              "      <td>306.376587</td>\n",
              "    </tr>\n",
              "    <tr>\n",
              "      <th>3</th>\n",
              "      <td>419.645905</td>\n",
              "    </tr>\n",
              "    <tr>\n",
              "      <th>4</th>\n",
              "      <td>380.650696</td>\n",
              "    </tr>\n",
              "    <tr>\n",
              "      <th>...</th>\n",
              "      <td>...</td>\n",
              "    </tr>\n",
              "    <tr>\n",
              "      <th>50525</th>\n",
              "      <td>2963.980957</td>\n",
              "    </tr>\n",
              "    <tr>\n",
              "      <th>50526</th>\n",
              "      <td>1684.353027</td>\n",
              "    </tr>\n",
              "    <tr>\n",
              "      <th>50527</th>\n",
              "      <td>2201.106934</td>\n",
              "    </tr>\n",
              "    <tr>\n",
              "      <th>50528</th>\n",
              "      <td>2515.694092</td>\n",
              "    </tr>\n",
              "    <tr>\n",
              "      <th>50529</th>\n",
              "      <td>2820.466064</td>\n",
              "    </tr>\n",
              "  </tbody>\n",
              "</table>\n",
              "<p>50530 rows × 1 columns</p>\n",
              "</div>\n",
              "      <button class=\"colab-df-convert\" onclick=\"convertToInteractive('df-81c370ba-7090-4f44-8117-2b10667ef61d')\"\n",
              "              title=\"Convert this dataframe to an interactive table.\"\n",
              "              style=\"display:none;\">\n",
              "        \n",
              "  <svg xmlns=\"http://www.w3.org/2000/svg\" height=\"24px\"viewBox=\"0 0 24 24\"\n",
              "       width=\"24px\">\n",
              "    <path d=\"M0 0h24v24H0V0z\" fill=\"none\"/>\n",
              "    <path d=\"M18.56 5.44l.94 2.06.94-2.06 2.06-.94-2.06-.94-.94-2.06-.94 2.06-2.06.94zm-11 1L8.5 8.5l.94-2.06 2.06-.94-2.06-.94L8.5 2.5l-.94 2.06-2.06.94zm10 10l.94 2.06.94-2.06 2.06-.94-2.06-.94-.94-2.06-.94 2.06-2.06.94z\"/><path d=\"M17.41 7.96l-1.37-1.37c-.4-.4-.92-.59-1.43-.59-.52 0-1.04.2-1.43.59L10.3 9.45l-7.72 7.72c-.78.78-.78 2.05 0 2.83L4 21.41c.39.39.9.59 1.41.59.51 0 1.02-.2 1.41-.59l7.78-7.78 2.81-2.81c.8-.78.8-2.07 0-2.86zM5.41 20L4 18.59l7.72-7.72 1.47 1.35L5.41 20z\"/>\n",
              "  </svg>\n",
              "      </button>\n",
              "      \n",
              "  <style>\n",
              "    .colab-df-container {\n",
              "      display:flex;\n",
              "      flex-wrap:wrap;\n",
              "      gap: 12px;\n",
              "    }\n",
              "\n",
              "    .colab-df-convert {\n",
              "      background-color: #E8F0FE;\n",
              "      border: none;\n",
              "      border-radius: 50%;\n",
              "      cursor: pointer;\n",
              "      display: none;\n",
              "      fill: #1967D2;\n",
              "      height: 32px;\n",
              "      padding: 0 0 0 0;\n",
              "      width: 32px;\n",
              "    }\n",
              "\n",
              "    .colab-df-convert:hover {\n",
              "      background-color: #E2EBFA;\n",
              "      box-shadow: 0px 1px 2px rgba(60, 64, 67, 0.3), 0px 1px 3px 1px rgba(60, 64, 67, 0.15);\n",
              "      fill: #174EA6;\n",
              "    }\n",
              "\n",
              "    [theme=dark] .colab-df-convert {\n",
              "      background-color: #3B4455;\n",
              "      fill: #D2E3FC;\n",
              "    }\n",
              "\n",
              "    [theme=dark] .colab-df-convert:hover {\n",
              "      background-color: #434B5C;\n",
              "      box-shadow: 0px 1px 3px 1px rgba(0, 0, 0, 0.15);\n",
              "      filter: drop-shadow(0px 1px 2px rgba(0, 0, 0, 0.3));\n",
              "      fill: #FFFFFF;\n",
              "    }\n",
              "  </style>\n",
              "\n",
              "      <script>\n",
              "        const buttonEl =\n",
              "          document.querySelector('#df-81c370ba-7090-4f44-8117-2b10667ef61d button.colab-df-convert');\n",
              "        buttonEl.style.display =\n",
              "          google.colab.kernel.accessAllowed ? 'block' : 'none';\n",
              "\n",
              "        async function convertToInteractive(key) {\n",
              "          const element = document.querySelector('#df-81c370ba-7090-4f44-8117-2b10667ef61d');\n",
              "          const dataTable =\n",
              "            await google.colab.kernel.invokeFunction('convertToInteractive',\n",
              "                                                     [key], {});\n",
              "          if (!dataTable) return;\n",
              "\n",
              "          const docLinkHtml = 'Like what you see? Visit the ' +\n",
              "            '<a target=\"_blank\" href=https://colab.research.google.com/notebooks/data_table.ipynb>data table notebook</a>'\n",
              "            + ' to learn more about interactive tables.';\n",
              "          element.innerHTML = '';\n",
              "          dataTable['output_type'] = 'display_data';\n",
              "          await google.colab.output.renderOutput(dataTable, element);\n",
              "          const docLink = document.createElement('div');\n",
              "          docLink.innerHTML = docLinkHtml;\n",
              "          element.appendChild(docLink);\n",
              "        }\n",
              "      </script>\n",
              "    </div>\n",
              "  </div>\n",
              "  "
            ]
          },
          "metadata": {},
          "execution_count": 9
        }
      ]
    },
    {
      "cell_type": "code",
      "source": [
        "from sklearn.model_selection import train_test_split\n",
        "x_train, x_test, y_train, y_test = train_test_split(x, y, test_size = 0.2, random_state = 1, shuffle = False)"
      ],
      "metadata": {
        "id": "gg0SPQbi1I6z"
      },
      "execution_count": null,
      "outputs": []
    },
    {
      "cell_type": "markdown",
      "source": [
        "#LR model"
      ],
      "metadata": {
        "id": "4tDSwQozmltR"
      }
    },
    {
      "cell_type": "code",
      "source": [
        "pip install sigfig"
      ],
      "metadata": {
        "id": "Wko-KMQdmujg",
        "colab": {
          "base_uri": "https://localhost:8080/"
        },
        "outputId": "65c18d34-e9a3-4211-c7a5-1c2ea8a86793"
      },
      "execution_count": null,
      "outputs": [
        {
          "output_type": "stream",
          "name": "stdout",
          "text": [
            "Looking in indexes: https://pypi.org/simple, https://us-python.pkg.dev/colab-wheels/public/simple/\n",
            "Collecting sigfig\n",
            "  Downloading sigfig-1.3.2-py3-none-any.whl (9.8 kB)\n",
            "Requirement already satisfied: SortedContainers in /usr/local/lib/python3.10/dist-packages (from sigfig) (2.4.0)\n",
            "Installing collected packages: sigfig\n",
            "Successfully installed sigfig-1.3.2\n"
          ]
        }
      ]
    },
    {
      "cell_type": "code",
      "source": [
        "import numpy as np\n",
        "from sklearn.metrics import r2_score\n",
        "from sklearn.metrics import mean_squared_error\n",
        "from sklearn.metrics import mean_absolute_error\n",
        "from math import sqrt\n",
        "from sigfig import round"
      ],
      "metadata": {
        "id": "U8bHLt02nkbY"
      },
      "execution_count": null,
      "outputs": []
    },
    {
      "cell_type": "code",
      "source": [
        "from sklearn.linear_model import LinearRegression\n",
        "\n",
        "#model\n",
        "lr = LinearRegression()\n",
        "\n",
        "# fit\n",
        "lr.fit(x_train, y_train)\n",
        "\n",
        "# predict\n",
        "pred = lr.predict(x_test)\n",
        "\n",
        "# R2 score\n",
        "print(\"R2:\", round(r2_score(y_test, pred), sigfigs=4))\n",
        "\n",
        "#RMSE\n",
        "print(\"RMSE:\",  round(sqrt(mean_squared_error(y_test, pred)), sigfigs=4))\n",
        "\n",
        "#MAE\n",
        "print(\"MAE:\", round(mean_absolute_error(y_test, pred), sigfigs=4))"
      ],
      "metadata": {
        "colab": {
          "base_uri": "https://localhost:8080/"
        },
        "id": "U-Erwq41myEO",
        "outputId": "3bc5a8ed-0085-4489-984f-94c5ae02ffae"
      },
      "execution_count": null,
      "outputs": [
        {
          "output_type": "stream",
          "name": "stdout",
          "text": [
            "R2: 0.8304\n",
            "RMSE: 552.7\n",
            "MAE: 413.1\n"
          ]
        }
      ]
    },
    {
      "cell_type": "markdown",
      "source": [
        "#KNN model"
      ],
      "metadata": {
        "id": "Ho9TH-oQpge-"
      }
    },
    {
      "cell_type": "code",
      "source": [
        "from sklearn.neighbors import KNeighborsRegressor\n",
        "\n",
        "#model\n",
        "knn = KNeighborsRegressor(n_neighbors=7)\n",
        "\n",
        "# fit\n",
        "knn.fit(x_train,y_train)\n",
        "\n",
        "# predict\n",
        "pred = knn.predict(x_test)\n",
        "\n",
        "\n",
        "# R2 score\n",
        "print(\"R2:\", round(r2_score(y_test, pred), sigfigs=4))\n",
        "\n",
        "#RMSE\n",
        "print(\"RMSE:\",  round(sqrt(mean_squared_error(y_test, pred)), sigfigs=4))\n",
        "\n",
        "#MAE\n",
        "print(\"MAE:\", round(mean_absolute_error(y_test, pred), sigfigs=4))"
      ],
      "metadata": {
        "colab": {
          "base_uri": "https://localhost:8080/"
        },
        "id": "S6wURFRcpktf",
        "outputId": "be71e7c9-60cc-45c4-d59c-452b84fcb02e"
      },
      "execution_count": null,
      "outputs": [
        {
          "output_type": "stream",
          "name": "stdout",
          "text": [
            "R2: 0.8257\n",
            "RMSE: 560.3\n",
            "MAE: 270.5\n"
          ]
        }
      ]
    },
    {
      "cell_type": "markdown",
      "source": [
        "#Decision Tree"
      ],
      "metadata": {
        "id": "gaYBSTtmrKLF"
      }
    },
    {
      "cell_type": "code",
      "source": [
        "from sklearn.tree import DecisionTreeRegressor\n",
        "\n",
        "# model\n",
        "dt = DecisionTreeRegressor(max_depth=10,random_state=27)\n",
        "\n",
        "# fit\n",
        "dt.fit(x_train, y_train)\n",
        "\n",
        "# predict\n",
        "pred = dt.predict(x_test)\n",
        "\n",
        "# R2 score\n",
        "print(\"R2:\", round(r2_score(y_test, pred), sigfigs=4))\n",
        "\n",
        "#RMSE\n",
        "print(\"RMSE:\",  round(sqrt(mean_squared_error(y_test, pred)), sigfigs=4))\n",
        "\n",
        "#MAE\n",
        "print(\"MAE:\", round(mean_absolute_error(y_test, pred), sigfigs=4))"
      ],
      "metadata": {
        "colab": {
          "base_uri": "https://localhost:8080/"
        },
        "id": "nPomlV13remZ",
        "outputId": "e91cb226-c187-438a-9785-bb1205ce1e94"
      },
      "execution_count": null,
      "outputs": [
        {
          "output_type": "stream",
          "name": "stdout",
          "text": [
            "R2: 0.783\n",
            "RMSE: 625.1\n",
            "MAE: 272.7\n"
          ]
        }
      ]
    },
    {
      "cell_type": "markdown",
      "source": [
        "#MLP Reggresor"
      ],
      "metadata": {
        "id": "U9bquVAQrnVi"
      }
    },
    {
      "cell_type": "code",
      "source": [
        "from sklearn.neural_network import MLPRegressor\n",
        "\n",
        "#model\n",
        "mlp = MLPRegressor(random_state=1, max_iter=30)\n",
        "\n",
        "# fit\n",
        "mlp.fit(x_train,y_train)\n",
        "\n",
        "# predict\n",
        "pred = mlp.predict(x_test)\n",
        "\n",
        "\n",
        "\n",
        "# R2 score\n",
        "print(\"R2:\", round(r2_score(y_test, pred), sigfigs=4))\n",
        "\n",
        "#RMSE\n",
        "print(\"RMSE:\",  round(sqrt(mean_squared_error(y_test, pred)), sigfigs=4))\n",
        "\n",
        "#MAE\n",
        "print(\"MAE:\", round(mean_absolute_error(y_test, pred), sigfigs=4))"
      ],
      "metadata": {
        "colab": {
          "base_uri": "https://localhost:8080/"
        },
        "id": "vxKqLKX1ruBB",
        "outputId": "7da699e8-a721-499b-dd10-cce3d3bc2344"
      },
      "execution_count": null,
      "outputs": [
        {
          "output_type": "stream",
          "name": "stderr",
          "text": [
            "/usr/local/lib/python3.10/dist-packages/sklearn/neural_network/_multilayer_perceptron.py:1623: DataConversionWarning: A column-vector y was passed when a 1d array was expected. Please change the shape of y to (n_samples, ), for example using ravel().\n",
            "  y = column_or_1d(y, warn=True)\n"
          ]
        },
        {
          "output_type": "stream",
          "name": "stdout",
          "text": [
            "R2: 0.799\n",
            "RMSE: 601.6\n",
            "MAE: 470.9\n"
          ]
        },
        {
          "output_type": "stream",
          "name": "stderr",
          "text": [
            "/usr/local/lib/python3.10/dist-packages/sklearn/neural_network/_multilayer_perceptron.py:686: ConvergenceWarning: Stochastic Optimizer: Maximum iterations (30) reached and the optimization hasn't converged yet.\n",
            "  warnings.warn(\n"
          ]
        }
      ]
    },
    {
      "cell_type": "markdown",
      "source": [
        "#Random Forest"
      ],
      "metadata": {
        "id": "rxDAgovNr1z_"
      }
    },
    {
      "cell_type": "code",
      "source": [
        "from sklearn.ensemble import RandomForestRegressor\n",
        "\n",
        "#model\n",
        "rf = RandomForestRegressor(n_estimators=20, random_state=1)\n",
        "\n",
        "# fit\n",
        "rf.fit(x_train,y_train)\n",
        "\n",
        "# predict\n",
        "pred = rf.predict(x_test)\n",
        "\n",
        "\n",
        "# R2 score\n",
        "print(\"R2:\", round(r2_score(y_test, pred), sigfigs=4))\n",
        "\n",
        "#RMSE\n",
        "print(\"RMSE:\",  round(sqrt(mean_squared_error(y_test, pred)), sigfigs=4))\n",
        "\n",
        "#MAE\n",
        "print(\"MAE:\", round(mean_absolute_error(y_test, pred), sigfigs=4))"
      ],
      "metadata": {
        "colab": {
          "base_uri": "https://localhost:8080/"
        },
        "id": "flATZB2dr3zl",
        "outputId": "df9bcbe1-5961-4a1b-8f7e-f44e010697a3"
      },
      "execution_count": null,
      "outputs": [
        {
          "output_type": "stream",
          "name": "stderr",
          "text": [
            "<ipython-input-44-7c4b72723ec1>:7: DataConversionWarning: A column-vector y was passed when a 1d array was expected. Please change the shape of y to (n_samples,), for example using ravel().\n",
            "  rf.fit(x_train,y_train)\n"
          ]
        },
        {
          "output_type": "stream",
          "name": "stdout",
          "text": [
            "R2: 0.8243\n",
            "RMSE: 562.6\n",
            "MAE: 268.6\n"
          ]
        }
      ]
    },
    {
      "cell_type": "markdown",
      "source": [
        "#NN #1\n",
        "- 3 dense layers\n",
        "- 96 to 500 to 8 to 48\n",
        "- 10 epochs"
      ],
      "metadata": {
        "id": "0DDAaI4zr9uA"
      }
    },
    {
      "cell_type": "code",
      "source": [
        "from keras.models import Sequential\n",
        "from keras.layers import Dense\n",
        "from keras import Input"
      ],
      "metadata": {
        "id": "96djBL9osB7J"
      },
      "execution_count": null,
      "outputs": []
    },
    {
      "cell_type": "code",
      "source": [
        "# define the keras model\n",
        "model1 = Sequential()\n",
        "model1.add(Dense(500, input_dim=2, activation='relu'))\n",
        "model1.add(Dense(8, activation='relu'))\n",
        "model1.add(Dense(1))\n",
        "model1.compile(loss='mse', optimizer='adam')\n",
        "# fit the keras model on the dataset\n",
        "model1.fit(x_train, y_train, epochs=10)"
      ],
      "metadata": {
        "colab": {
          "base_uri": "https://localhost:8080/"
        },
        "id": "Zht97kUDsDgW",
        "outputId": "c523d5a4-ff9c-415d-dd82-b031f14c8d15"
      },
      "execution_count": null,
      "outputs": [
        {
          "output_type": "stream",
          "name": "stdout",
          "text": [
            "Epoch 1/10\n",
            "1264/1264 [==============================] - 4s 2ms/step - loss: 1056538.7500\n",
            "Epoch 2/10\n",
            "1264/1264 [==============================] - 4s 3ms/step - loss: 315978.8750\n",
            "Epoch 3/10\n",
            "1264/1264 [==============================] - 3s 2ms/step - loss: 265330.2812\n",
            "Epoch 4/10\n",
            "1264/1264 [==============================] - 3s 2ms/step - loss: 257924.1562\n",
            "Epoch 5/10\n",
            "1264/1264 [==============================] - 2s 2ms/step - loss: 256292.7500\n",
            "Epoch 6/10\n",
            "1264/1264 [==============================] - 3s 2ms/step - loss: 256344.1250\n",
            "Epoch 7/10\n",
            "1264/1264 [==============================] - 4s 3ms/step - loss: 256180.1094\n",
            "Epoch 8/10\n",
            "1264/1264 [==============================] - 3s 2ms/step - loss: 255348.5312\n",
            "Epoch 9/10\n",
            "1264/1264 [==============================] - 3s 2ms/step - loss: 253845.0469\n",
            "Epoch 10/10\n",
            "1264/1264 [==============================] - 3s 2ms/step - loss: 252601.4844\n"
          ]
        },
        {
          "output_type": "execute_result",
          "data": {
            "text/plain": [
              "<keras.callbacks.History at 0x7fb33d288130>"
            ]
          },
          "metadata": {},
          "execution_count": 46
        }
      ]
    },
    {
      "cell_type": "code",
      "source": [
        "#predict\n",
        "pred = model1.predict(x_test)\n",
        "\n",
        "\n",
        "\n",
        "# R2 score\n",
        "print(\"R2:\", round(r2_score(y_test, pred), sigfigs=4))\n",
        "\n",
        "#RMSE\n",
        "print(\"RMSE:\",  round(sqrt(mean_squared_error(y_test, pred)), sigfigs=4))\n",
        "\n",
        "#MAE\n",
        "print(\"MAE:\", round(mean_absolute_error(y_test, pred), sigfigs=4))"
      ],
      "metadata": {
        "colab": {
          "base_uri": "https://localhost:8080/"
        },
        "id": "B0C_zu0KsLY6",
        "outputId": "cf5b1c53-e42a-4d03-9697-27eb1c85f9ce"
      },
      "execution_count": null,
      "outputs": [
        {
          "output_type": "stream",
          "name": "stdout",
          "text": [
            "316/316 [==============================] - 1s 1ms/step\n",
            "R2: 0.8481\n",
            "RMSE: 523.0\n",
            "MAE: 344.7\n"
          ]
        }
      ]
    },
    {
      "cell_type": "code",
      "source": [
        "pred24 = pred[0:144]\n",
        "actual24 = y_test[0:144]"
      ],
      "metadata": {
        "id": "fM6GqMUFPyik"
      },
      "execution_count": null,
      "outputs": []
    },
    {
      "cell_type": "code",
      "source": [
        "import matplotlib.pyplot as plt\n",
        "import numpy as np\n",
        "import math\n",
        "\n",
        "# Using Numpy to create an array X\n",
        "x_axis = np.linspace(0, 24, num=144)\n",
        "\n",
        "# Plotting both the curves simultaneously\n",
        "plt.plot(x_axis, pred24, color='b', label='Predicted Power Generated')\n",
        "plt.plot(x_axis, actual24, color='r', label='Actual Power Generated')\n",
        "\n",
        "# Naming the x-axis, y-axis and the whole graph\n",
        "plt.xlabel(\"24 Hours\")\n",
        "plt.ylabel(\"Power Generated in that Hour (kW)\")\n",
        "plt.title(\"Predicted vs Actual Power Generation for 24 Hours of Data in Dataset\")\n",
        "\n",
        "# Adding legend, which helps us recognize the curve according to it's color\n",
        "plt.legend()\n",
        "\n",
        "# To load the display window\n",
        "plt.show()"
      ],
      "metadata": {
        "colab": {
          "base_uri": "https://localhost:8080/",
          "height": 472
        },
        "id": "PuSsj9s9QS6P",
        "outputId": "f975a929-b0dd-4193-8d9e-a41137166e96"
      },
      "execution_count": null,
      "outputs": [
        {
          "output_type": "display_data",
          "data": {
            "text/plain": [
              "<Figure size 640x480 with 1 Axes>"
            ],
            "image/png": "[encoded data removed]"
          },
          "metadata": {}
        }
      ]
    },
    {
      "cell_type": "markdown",
      "source": [
        "#NN2\n",
        "- 3 dense layers\n",
        "- 96 to 1000 to 8 to 48\n",
        "- 10 epochs"
      ],
      "metadata": {
        "id": "ar31LrAcskPx"
      }
    },
    {
      "cell_type": "code",
      "source": [
        "# define the keras model\n",
        "model2 = Sequential()\n",
        "model2.add(Dense(1000, input_dim=2, activation='relu'))\n",
        "model2.add(Dense(8, activation='relu'))\n",
        "model2.add(Dense(1))\n",
        "model2.compile(loss='mse', optimizer='adam')\n",
        "# fit the keras model on the dataset\n",
        "model2.fit(x_train, y_train, epochs=10)"
      ],
      "metadata": {
        "colab": {
          "base_uri": "https://localhost:8080/"
        },
        "id": "KsLvKg3zsnmX",
        "outputId": "da198b11-0855-4578-f917-119b8b48c263"
      },
      "execution_count": null,
      "outputs": [
        {
          "output_type": "stream",
          "name": "stdout",
          "text": [
            "Epoch 1/10\n",
            "1264/1264 [==============================] - 5s 3ms/step - loss: 921670.5000\n",
            "Epoch 2/10\n",
            "1264/1264 [==============================] - 3s 3ms/step - loss: 297785.4375\n",
            "Epoch 3/10\n",
            "1264/1264 [==============================] - 3s 2ms/step - loss: 260935.0312\n",
            "Epoch 4/10\n",
            "1264/1264 [==============================] - 3s 2ms/step - loss: 258046.9062\n",
            "Epoch 5/10\n",
            "1264/1264 [==============================] - 3s 2ms/step - loss: 256471.2656\n",
            "Epoch 6/10\n",
            "1264/1264 [==============================] - 4s 3ms/step - loss: 254092.9688\n",
            "Epoch 7/10\n",
            "1264/1264 [==============================] - 3s 2ms/step - loss: 251765.6406\n",
            "Epoch 8/10\n",
            "1264/1264 [==============================] - 3s 2ms/step - loss: 248791.9219\n",
            "Epoch 9/10\n",
            "1264/1264 [==============================] - 3s 2ms/step - loss: 243800.6875\n",
            "Epoch 10/10\n",
            "1264/1264 [==============================] - 3s 3ms/step - loss: 239821.2344\n"
          ]
        },
        {
          "output_type": "execute_result",
          "data": {
            "text/plain": [
              "<keras.callbacks.History at 0x7fb33d03ed70>"
            ]
          },
          "metadata": {},
          "execution_count": 50
        }
      ]
    },
    {
      "cell_type": "code",
      "source": [
        "#predict\n",
        "pred = model2.predict(x_test)\n",
        "\n",
        "# R2 score\n",
        "print(\"R2:\", round(r2_score(y_test, pred), sigfigs=4))\n",
        "\n",
        "#RMSE\n",
        "print(\"RMSE:\",  round(sqrt(mean_squared_error(y_test, pred)), sigfigs=4))\n",
        "\n",
        "#MAE\n",
        "print(\"MAE:\", round(mean_absolute_error(y_test, pred), sigfigs=4))"
      ],
      "metadata": {
        "colab": {
          "base_uri": "https://localhost:8080/"
        },
        "id": "goifzGRotHf7",
        "outputId": "327b61c8-7cd8-43d0-d9d1-927decce1d24"
      },
      "execution_count": null,
      "outputs": [
        {
          "output_type": "stream",
          "name": "stdout",
          "text": [
            "316/316 [==============================] - 1s 2ms/step\n",
            "R2: 0.8396\n",
            "RMSE: 537.4\n",
            "MAE: 350.2\n"
          ]
        }
      ]
    },
    {
      "cell_type": "markdown",
      "source": [
        "#NN3\n",
        "- 3 dense layers\n",
        "- 96 to 1000 to 8 to 48\n",
        "- 15 epochs"
      ],
      "metadata": {
        "id": "BNz0oq2_tRGn"
      }
    },
    {
      "cell_type": "code",
      "source": [
        "# define the keras model\n",
        "model3 = Sequential()\n",
        "model3.add(Dense(1000, input_dim=2, activation='relu'))\n",
        "model3.add(Dense(8, activation='relu'))\n",
        "model3.add(Dense(1))\n",
        "model3.compile(loss='mse', optimizer='adam')\n",
        "# fit the keras model on the dataset\n",
        "model3.fit(x_train, y_train, epochs=15)"
      ],
      "metadata": {
        "colab": {
          "base_uri": "https://localhost:8080/"
        },
        "id": "8rPwfKSctRls",
        "outputId": "aea2ad7c-408e-4cb6-8a22-59ef8f25e3e1"
      },
      "execution_count": null,
      "outputs": [
        {
          "output_type": "stream",
          "name": "stdout",
          "text": [
            "Epoch 1/15\n",
            "1264/1264 [==============================] - 5s 3ms/step - loss: 914787.0625\n",
            "Epoch 2/15\n",
            "1264/1264 [==============================] - 4s 3ms/step - loss: 290247.3438\n",
            "Epoch 3/15\n",
            "1264/1264 [==============================] - 3s 2ms/step - loss: 261322.0625\n",
            "Epoch 4/15\n",
            "1264/1264 [==============================] - 3s 2ms/step - loss: 256821.4062\n",
            "Epoch 5/15\n",
            "1264/1264 [==============================] - 4s 3ms/step - loss: 252139.6875\n",
            "Epoch 6/15\n",
            "1264/1264 [==============================] - 4s 3ms/step - loss: 243440.5469\n",
            "Epoch 7/15\n",
            "1264/1264 [==============================] - 3s 2ms/step - loss: 235393.8750\n",
            "Epoch 8/15\n",
            "1264/1264 [==============================] - 3s 2ms/step - loss: 230182.0156\n",
            "Epoch 9/15\n",
            "1264/1264 [==============================] - 3s 2ms/step - loss: 220647.3750\n",
            "Epoch 10/15\n",
            "1264/1264 [==============================] - 4s 3ms/step - loss: 212118.1875\n",
            "Epoch 11/15\n",
            "1264/1264 [==============================] - 5s 4ms/step - loss: 202826.6406\n",
            "Epoch 12/15\n",
            "1264/1264 [==============================] - 3s 2ms/step - loss: 191410.2500\n",
            "Epoch 13/15\n",
            "1264/1264 [==============================] - 3s 2ms/step - loss: 182169.3750\n",
            "Epoch 14/15\n",
            "1264/1264 [==============================] - 3s 2ms/step - loss: 175099.7812\n",
            "Epoch 15/15\n",
            "1264/1264 [==============================] - 4s 3ms/step - loss: 168159.4688\n"
          ]
        },
        {
          "output_type": "execute_result",
          "data": {
            "text/plain": [
              "<keras.callbacks.History at 0x7fb33d0235e0>"
            ]
          },
          "metadata": {},
          "execution_count": 52
        }
      ]
    },
    {
      "cell_type": "code",
      "source": [
        "#predict\n",
        "pred = model3.predict(x_test)\n",
        "\n",
        "# R2 score\n",
        "print(\"R2:\", round(r2_score(y_test, pred), sigfigs=4))\n",
        "\n",
        "#RMSE\n",
        "print(\"RMSE:\",  round(sqrt(mean_squared_error(y_test, pred)), sigfigs=4))\n",
        "\n",
        "#MAE\n",
        "print(\"MAE:\", round(mean_absolute_error(y_test, pred), sigfigs=4))"
      ],
      "metadata": {
        "colab": {
          "base_uri": "https://localhost:8080/"
        },
        "id": "UZogiLMGtmxN",
        "outputId": "494d9f6f-92ca-46a3-9df0-998c76bbd686"
      },
      "execution_count": null,
      "outputs": [
        {
          "output_type": "stream",
          "name": "stdout",
          "text": [
            "316/316 [==============================] - 1s 1ms/step\n",
            "R2: 0.8828\n",
            "RMSE: 459.5\n",
            "MAE: 295.2\n"
          ]
        }
      ]
    },
    {
      "cell_type": "markdown",
      "source": [
        "#NN #4\n",
        "- 2 dense layers\n",
        "- 96 to 100 to 48\n",
        "- 10 epochs"
      ],
      "metadata": {
        "id": "Tjzm52O4yKpU"
      }
    },
    {
      "cell_type": "code",
      "source": [
        "model4 = Sequential()\n",
        "model4.add(Dense(100, activation='relu', input_dim=2))\n",
        "model4.add(Dense(1))\n",
        "model4.compile(optimizer='adam', loss='mse')\n",
        "model4.fit(x_train, y_train, epochs=10)"
      ],
      "metadata": {
        "colab": {
          "base_uri": "https://localhost:8080/"
        },
        "id": "xsqMb810yOH1",
        "outputId": "0014d63f-7ba8-44db-995f-fe618bb6e294"
      },
      "execution_count": null,
      "outputs": [
        {
          "output_type": "stream",
          "name": "stdout",
          "text": [
            "Epoch 1/10\n",
            "1264/1264 [==============================] - 3s 2ms/step - loss: 2074269.1250\n",
            "Epoch 2/10\n",
            "1264/1264 [==============================] - 2s 2ms/step - loss: 678381.8750\n",
            "Epoch 3/10\n",
            "1264/1264 [==============================] - 3s 3ms/step - loss: 405955.4062\n",
            "Epoch 4/10\n",
            "1264/1264 [==============================] - 3s 2ms/step - loss: 379551.7812\n",
            "Epoch 5/10\n",
            "1264/1264 [==============================] - 2s 2ms/step - loss: 355466.7188\n",
            "Epoch 6/10\n",
            "1264/1264 [==============================] - 2s 2ms/step - loss: 329069.4062\n",
            "Epoch 7/10\n",
            "1264/1264 [==============================] - 2s 2ms/step - loss: 305991.2188\n",
            "Epoch 8/10\n",
            "1264/1264 [==============================] - 3s 2ms/step - loss: 287514.4062\n",
            "Epoch 9/10\n",
            "1264/1264 [==============================] - 3s 3ms/step - loss: 276395.9375\n",
            "Epoch 10/10\n",
            "1264/1264 [==============================] - 2s 2ms/step - loss: 270438.4375\n"
          ]
        },
        {
          "output_type": "execute_result",
          "data": {
            "text/plain": [
              "<keras.callbacks.History at 0x7fb33c3a7370>"
            ]
          },
          "metadata": {},
          "execution_count": 54
        }
      ]
    },
    {
      "cell_type": "code",
      "source": [
        "#predict\n",
        "pred = model4.predict(x_test)\n",
        "\n",
        "# R2 score\n",
        "print(\"R2:\", round(r2_score(y_test, pred), sigfigs=4))\n",
        "\n",
        "#RMSE\n",
        "print(\"RMSE:\",  round(sqrt(mean_squared_error(y_test, pred)), sigfigs=4))\n",
        "\n",
        "#MAE\n",
        "print(\"MAE:\", round(mean_absolute_error(y_test, pred), sigfigs=4))"
      ],
      "metadata": {
        "colab": {
          "base_uri": "https://localhost:8080/"
        },
        "id": "Dli6FPjiyUbq",
        "outputId": "6d12b519-3d5e-4d9a-ed29-9679de526766"
      },
      "execution_count": null,
      "outputs": [
        {
          "output_type": "stream",
          "name": "stdout",
          "text": [
            "316/316 [==============================] - 0s 1ms/step\n",
            "R2: 0.8326\n",
            "RMSE: 549.0\n",
            "MAE: 404.9\n"
          ]
        }
      ]
    },
    {
      "cell_type": "markdown",
      "source": [
        "#NN #5\n",
        "- 3 dense layers\n",
        "- 96 to 1000 to 8 to 48\n",
        "- 20 epochs"
      ],
      "metadata": {
        "id": "rILYGpBeyr0_"
      }
    },
    {
      "cell_type": "code",
      "source": [
        "# define the keras model\n",
        "model5 = Sequential()\n",
        "model5.add(Dense(1000, input_dim=2, activation='relu'))\n",
        "model5.add(Dense(8, activation='relu'))\n",
        "model5.add(Dense(1))\n",
        "model5.compile(loss='mse', optimizer='adam')\n",
        "# fit the keras model on the dataset\n",
        "model5.fit(x_train, y_train, epochs=20)"
      ],
      "metadata": {
        "colab": {
          "base_uri": "https://localhost:8080/"
        },
        "id": "dyUCrOpfyt8x",
        "outputId": "0bd331be-d00f-4d2d-f627-a890b328a7d8"
      },
      "execution_count": null,
      "outputs": [
        {
          "output_type": "stream",
          "name": "stdout",
          "text": [
            "Epoch 1/20\n",
            "1264/1264 [==============================] - 4s 2ms/step - loss: 1159753.3750\n",
            "Epoch 2/20\n",
            "1264/1264 [==============================] - 4s 3ms/step - loss: 333467.5312\n",
            "Epoch 3/20\n",
            "1264/1264 [==============================] - 3s 3ms/step - loss: 266202.4062\n",
            "Epoch 4/20\n",
            "1264/1264 [==============================] - 3s 2ms/step - loss: 258716.1719\n",
            "Epoch 5/20\n",
            "1264/1264 [==============================] - 3s 2ms/step - loss: 256228.4375\n",
            "Epoch 6/20\n",
            "1264/1264 [==============================] - 4s 3ms/step - loss: 256833.2969\n",
            "Epoch 7/20\n",
            "1264/1264 [==============================] - 4s 3ms/step - loss: 257465.4062\n",
            "Epoch 8/20\n",
            "1264/1264 [==============================] - 3s 2ms/step - loss: 257486.4531\n",
            "Epoch 9/20\n",
            "1264/1264 [==============================] - 3s 2ms/step - loss: 257154.3281\n",
            "Epoch 10/20\n",
            "1264/1264 [==============================] - 3s 2ms/step - loss: 255619.1719\n",
            "Epoch 11/20\n",
            "1264/1264 [==============================] - 4s 3ms/step - loss: 252877.4688\n",
            "Epoch 12/20\n",
            "1264/1264 [==============================] - 3s 2ms/step - loss: 251893.3125\n",
            "Epoch 13/20\n",
            "1264/1264 [==============================] - 3s 2ms/step - loss: 248667.9219\n",
            "Epoch 14/20\n",
            "1264/1264 [==============================] - 3s 2ms/step - loss: 242996.0000\n",
            "Epoch 15/20\n",
            "1264/1264 [==============================] - 3s 3ms/step - loss: 237644.3438\n",
            "Epoch 16/20\n",
            "1264/1264 [==============================] - 4s 3ms/step - loss: 230562.9375\n",
            "Epoch 17/20\n",
            "1264/1264 [==============================] - 3s 2ms/step - loss: 223701.3125\n",
            "Epoch 18/20\n",
            "1264/1264 [==============================] - 3s 2ms/step - loss: 218162.3281\n",
            "Epoch 19/20\n",
            "1264/1264 [==============================] - 3s 2ms/step - loss: 210583.8906\n",
            "Epoch 20/20\n",
            "1264/1264 [==============================] - 4s 3ms/step - loss: 205736.8125\n"
          ]
        },
        {
          "output_type": "execute_result",
          "data": {
            "text/plain": [
              "<keras.callbacks.History at 0x7fb33c2c58d0>"
            ]
          },
          "metadata": {},
          "execution_count": 56
        }
      ]
    },
    {
      "cell_type": "code",
      "source": [
        "#predict\n",
        "pred = model5.predict(x_test)\n",
        "\n",
        "# R2 score\n",
        "print(\"R2:\", round(r2_score(y_test, pred), sigfigs=4))\n",
        "\n",
        "#RMSE\n",
        "print(\"RMSE:\",  round(sqrt(mean_squared_error(y_test, pred)), sigfigs=4))\n",
        "\n",
        "#MAE\n",
        "print(\"MAE:\", round(mean_absolute_error(y_test, pred), sigfigs=4))"
      ],
      "metadata": {
        "colab": {
          "base_uri": "https://localhost:8080/"
        },
        "id": "5cE_IHS5yyHN",
        "outputId": "0a556028-6d9d-47d7-9659-e69476110ae4"
      },
      "execution_count": null,
      "outputs": [
        {
          "output_type": "stream",
          "name": "stdout",
          "text": [
            "316/316 [==============================] - 1s 2ms/step\n",
            "R2: 0.8743\n",
            "RMSE: 475.8\n",
            "MAE: 294.1\n"
          ]
        }
      ]
    },
    {
      "cell_type": "markdown",
      "source": [
        "#NN #6\n",
        "- 3 dense layers\n",
        "- 96 to 100 to 100 to 48\n",
        "- 30 epochs"
      ],
      "metadata": {
        "id": "sX2324PRzLCp"
      }
    },
    {
      "cell_type": "code",
      "source": [
        "model6 = Sequential()\n",
        "model6.add(Input(shape=(2,)))\n",
        "model6.add(Dense(100, activation = 'relu'))\n",
        "model6.add(Dense(100, activation = 'relu'))\n",
        "model6.add(Dense(1, activation = 'relu'))\n",
        "model6.compile(loss='mse', optimizer='adam')\n",
        "model6.fit(x_train, y_train, epochs=30)"
      ],
      "metadata": {
        "colab": {
          "base_uri": "https://localhost:8080/"
        },
        "id": "xzG-XsdhzPr0",
        "outputId": "c5f7a7a2-6b9f-4b3f-f011-bd758c3c5187"
      },
      "execution_count": null,
      "outputs": [
        {
          "output_type": "stream",
          "name": "stdout",
          "text": [
            "Epoch 1/30\n",
            "1264/1264 [==============================] - 3s 2ms/step - loss: 3303194.7500\n",
            "Epoch 2/30\n",
            "1264/1264 [==============================] - 3s 2ms/step - loss: 3303196.0000\n",
            "Epoch 3/30\n",
            "1264/1264 [==============================] - 4s 3ms/step - loss: 3303195.7500\n",
            "Epoch 4/30\n",
            "1264/1264 [==============================] - 3s 2ms/step - loss: 3303194.7500\n",
            "Epoch 5/30\n",
            "1264/1264 [==============================] - 3s 2ms/step - loss: 3303196.0000\n",
            "Epoch 6/30\n",
            "1264/1264 [==============================] - 3s 2ms/step - loss: 3303196.2500\n",
            "Epoch 7/30\n",
            "1264/1264 [==============================] - 3s 2ms/step - loss: 3303195.5000\n",
            "Epoch 8/30\n",
            "1264/1264 [==============================] - 4s 3ms/step - loss: 3303190.7500\n",
            "Epoch 9/30\n",
            "1264/1264 [==============================] - 2s 2ms/step - loss: 3303196.0000\n",
            "Epoch 10/30\n",
            "1264/1264 [==============================] - 2s 2ms/step - loss: 3303194.5000\n",
            "Epoch 11/30\n",
            "1264/1264 [==============================] - 3s 2ms/step - loss: 3303193.2500\n",
            "Epoch 12/30\n",
            "1264/1264 [==============================] - 3s 2ms/step - loss: 3303192.2500\n",
            "Epoch 13/30\n",
            "1264/1264 [==============================] - 4s 3ms/step - loss: 3303196.0000\n",
            "Epoch 14/30\n",
            "1264/1264 [==============================] - 3s 2ms/step - loss: 3303194.5000\n",
            "Epoch 15/30\n",
            "1264/1264 [==============================] - 3s 2ms/step - loss: 3303194.2500\n",
            "Epoch 16/30\n",
            "1264/1264 [==============================] - 3s 2ms/step - loss: 3303195.0000\n",
            "Epoch 17/30\n",
            "1264/1264 [==============================] - 3s 2ms/step - loss: 3303196.5000\n",
            "Epoch 18/30\n",
            "1264/1264 [==============================] - 4s 3ms/step - loss: 3303195.5000\n",
            "Epoch 19/30\n",
            "1264/1264 [==============================] - 3s 2ms/step - loss: 3303192.5000\n",
            "Epoch 20/30\n",
            "1264/1264 [==============================] - 3s 2ms/step - loss: 3303193.2500\n",
            "Epoch 21/30\n",
            "1264/1264 [==============================] - 3s 2ms/step - loss: 3303195.2500\n",
            "Epoch 22/30\n",
            "1264/1264 [==============================] - 3s 2ms/step - loss: 3303193.7500\n",
            "Epoch 23/30\n",
            "1264/1264 [==============================] - 4s 3ms/step - loss: 3303192.0000\n",
            "Epoch 24/30\n",
            "1264/1264 [==============================] - 3s 2ms/step - loss: 3303192.2500\n",
            "Epoch 25/30\n",
            "1264/1264 [==============================] - 3s 2ms/step - loss: 3303194.5000\n",
            "Epoch 26/30\n",
            "1264/1264 [==============================] - 3s 2ms/step - loss: 3303193.7500\n",
            "Epoch 27/30\n",
            "1264/1264 [==============================] - 3s 2ms/step - loss: 3303193.2500\n",
            "Epoch 28/30\n",
            "1264/1264 [==============================] - 4s 3ms/step - loss: 3303194.5000\n",
            "Epoch 29/30\n",
            "1264/1264 [==============================] - 3s 2ms/step - loss: 3303194.5000\n",
            "Epoch 30/30\n",
            "1264/1264 [==============================] - 2s 2ms/step - loss: 3303195.7500\n"
          ]
        },
        {
          "output_type": "execute_result",
          "data": {
            "text/plain": [
              "<keras.callbacks.History at 0x7fb334725b40>"
            ]
          },
          "metadata": {},
          "execution_count": 58
        }
      ]
    },
    {
      "cell_type": "code",
      "source": [
        "#predict\n",
        "pred = model6.predict(x_test)\n",
        "\n",
        "# R2 score\n",
        "print(\"R2:\", round(r2_score(y_test, pred), sigfigs=4))\n",
        "\n",
        "#RMSE\n",
        "print(\"RMSE:\",  round(sqrt(mean_squared_error(y_test, pred)), sigfigs=4))\n",
        "\n",
        "#MAE\n",
        "print(\"MAE:\", round(mean_absolute_error(y_test, pred), sigfigs=4))"
      ],
      "metadata": {
        "colab": {
          "base_uri": "https://localhost:8080/"
        },
        "id": "pl332p-ozdaZ",
        "outputId": "5239fed6-c89e-44c6-d710-746833a93180"
      },
      "execution_count": null,
      "outputs": [
        {
          "output_type": "stream",
          "name": "stdout",
          "text": [
            "316/316 [==============================] - 1s 2ms/step\n",
            "R2: -1.193\n",
            "RMSE: 1987.0\n",
            "MAE: 1466.0\n"
          ]
        }
      ]
    },
    {
      "cell_type": "markdown",
      "source": [
        "#NN #7\n",
        "- 3 dense layers\n",
        "- 96 to 1000 to 8 to 48\n",
        "- 30 epochs"
      ],
      "metadata": {
        "id": "FuZf89_VzhPO"
      }
    },
    {
      "cell_type": "code",
      "source": [
        "# define the keras model\n",
        "model7 = Sequential()\n",
        "model7.add(Dense(1000, input_dim=2, activation='relu'))\n",
        "model7.add(Dense(8, activation='relu'))\n",
        "model7.add(Dense(1))\n",
        "model7.compile(loss='mse', optimizer='adam')\n",
        "# fit the keras model on the dataset\n",
        "model7.fit(x_train, y_train, epochs=30)"
      ],
      "metadata": {
        "id": "DDVAYWcOzvIo",
        "colab": {
          "base_uri": "https://localhost:8080/"
        },
        "outputId": "4602de98-52e5-4b52-d1ea-1fc95dcec6dd"
      },
      "execution_count": null,
      "outputs": [
        {
          "output_type": "stream",
          "name": "stdout",
          "text": [
            "Epoch 1/30\n",
            "1264/1264 [==============================] - 4s 2ms/step - loss: 798302.1875\n",
            "Epoch 2/30\n",
            "1264/1264 [==============================] - 5s 4ms/step - loss: 281557.8438\n",
            "Epoch 3/30\n",
            "1264/1264 [==============================] - 8s 6ms/step - loss: 258417.8125\n",
            "Epoch 4/30\n",
            "1264/1264 [==============================] - 5s 4ms/step - loss: 254496.8594\n",
            "Epoch 5/30\n",
            "1264/1264 [==============================] - 5s 4ms/step - loss: 249475.2500\n",
            "Epoch 6/30\n",
            "1264/1264 [==============================] - 8s 6ms/step - loss: 242048.7031\n",
            "Epoch 7/30\n",
            "1264/1264 [==============================] - 5s 4ms/step - loss: 235761.8438\n",
            "Epoch 8/30\n",
            "1264/1264 [==============================] - 5s 4ms/step - loss: 226358.1094\n",
            "Epoch 9/30\n",
            "1264/1264 [==============================] - 7s 6ms/step - loss: 220695.1094\n",
            "Epoch 10/30\n",
            "1264/1264 [==============================] - 3s 2ms/step - loss: 212600.1406\n",
            "Epoch 11/30\n",
            "1264/1264 [==============================] - 2s 2ms/step - loss: 204473.6719\n",
            "Epoch 12/30\n",
            "1264/1264 [==============================] - 2s 2ms/step - loss: 196900.2656\n",
            "Epoch 13/30\n",
            "1264/1264 [==============================] - 4s 3ms/step - loss: 190023.9688\n",
            "Epoch 14/30\n",
            "1264/1264 [==============================] - 2s 2ms/step - loss: 181589.0625\n",
            "Epoch 15/30\n",
            "1264/1264 [==============================] - 2s 2ms/step - loss: 174405.5938\n",
            "Epoch 16/30\n",
            "1264/1264 [==============================] - 2s 2ms/step - loss: 168266.8750\n",
            "Epoch 17/30\n",
            "1264/1264 [==============================] - 2s 2ms/step - loss: 164100.4688\n",
            "Epoch 18/30\n",
            "1264/1264 [==============================] - 3s 2ms/step - loss: 160887.1406\n",
            "Epoch 19/30\n",
            "1264/1264 [==============================] - 3s 3ms/step - loss: 157675.9062\n",
            "Epoch 20/30\n",
            "1264/1264 [==============================] - 2s 2ms/step - loss: 155902.4844\n",
            "Epoch 21/30\n",
            "1264/1264 [==============================] - 2s 2ms/step - loss: 154759.2031\n",
            "Epoch 22/30\n",
            "1264/1264 [==============================] - 2s 2ms/step - loss: 153770.7969\n",
            "Epoch 23/30\n",
            "1264/1264 [==============================] - 2s 2ms/step - loss: 153333.2500\n",
            "Epoch 24/30\n",
            "1264/1264 [==============================] - 3s 2ms/step - loss: 152702.5000\n",
            "Epoch 25/30\n",
            "1264/1264 [==============================] - 3s 2ms/step - loss: 153906.2500\n",
            "Epoch 26/30\n",
            "1264/1264 [==============================] - 2s 2ms/step - loss: 152341.5781\n",
            "Epoch 27/30\n",
            "1264/1264 [==============================] - 2s 2ms/step - loss: 152144.1250\n",
            "Epoch 28/30\n",
            "1264/1264 [==============================] - 2s 2ms/step - loss: 153435.9062\n",
            "Epoch 29/30\n",
            "1264/1264 [==============================] - 2s 2ms/step - loss: 152404.1875\n",
            "Epoch 30/30\n",
            "1264/1264 [==============================] - 3s 2ms/step - loss: 151672.6719\n"
          ]
        },
        {
          "output_type": "execute_result",
          "data": {
            "text/plain": [
              "<keras.callbacks.History at 0x7f87509a7670>"
            ]
          },
          "metadata": {},
          "execution_count": 14
        }
      ]
    },
    {
      "cell_type": "code",
      "source": [
        "#predict\n",
        "pred = model7.predict(x_test)\n",
        "\n",
        "# R2 score\n",
        "print(\"R2:\", round(r2_score(y_test, pred), sigfigs=4))\n",
        "\n",
        "#RMSE\n",
        "print(\"RMSE:\",  round(sqrt(mean_squared_error(y_test, pred)), sigfigs=4))\n",
        "\n",
        "#MAE\n",
        "print(\"MAE:\", round(mean_absolute_error(y_test, pred), sigfigs=4))"
      ],
      "metadata": {
        "id": "3X4bN38wz1a4",
        "colab": {
          "base_uri": "https://localhost:8080/"
        },
        "outputId": "4851aa41-27ab-4c54-9203-d4aa61f74534"
      },
      "execution_count": null,
      "outputs": [
        {
          "output_type": "stream",
          "name": "stdout",
          "text": [
            "316/316 [==============================] - 1s 2ms/step\n",
            "R2: 0.9095\n",
            "RMSE: 403.8\n",
            "MAE: 221.2\n"
          ]
        }
      ]
    },
    {
      "cell_type": "code",
      "source": [
        "pred = pred.flatten()\n",
        "\n",
        "# Create the DataFrame 'test_df_2'\n",
        "wb_nn7 = pd.DataFrame({'pred': pred, 'y_test': y_test['LV ActivePower (kW)']})\n",
        "\n",
        "# Print the DataFrame\n",
        "wb_nn7.head()"
      ],
      "metadata": {
        "id": "W0H4e3v5om8N",
        "colab": {
          "base_uri": "https://localhost:8080/",
          "height": 206
        },
        "outputId": "e6dd3901-30cb-4445-e478-fd0f70553e0c"
      },
      "execution_count": null,
      "outputs": [
        {
          "output_type": "execute_result",
          "data": {
            "text/plain": [
              "           pred  y_test\n",
              "40424  1.654101     0.0\n",
              "40425  1.654101     0.0\n",
              "40426  1.654101     0.0\n",
              "40427  1.654101     0.0\n",
              "40428  1.654101     0.0"
            ],
            "text/html": [
              "\n",
              "  <div id=\"df-ce4fffb1-34d4-488d-b45b-798c195eeadb\">\n",
              "    <div class=\"colab-df-container\">\n",
              "      <div>\n",
              "<style scoped>\n",
              "    .dataframe tbody tr th:only-of-type {\n",
              "        vertical-align: middle;\n",
              "    }\n",
              "\n",
              "    .dataframe tbody tr th {\n",
              "        vertical-align: top;\n",
              "    }\n",
              "\n",
              "    .dataframe thead th {\n",
              "        text-align: right;\n",
              "    }\n",
              "</style>\n",
              "<table border=\"1\" class=\"dataframe\">\n",
              "  <thead>\n",
              "    <tr style=\"text-align: right;\">\n",
              "      <th></th>\n",
              "      <th>pred</th>\n",
              "      <th>y_test</th>\n",
              "    </tr>\n",
              "  </thead>\n",
              "  <tbody>\n",
              "    <tr>\n",
              "      <th>40424</th>\n",
              "      <td>1.654101</td>\n",
              "      <td>0.0</td>\n",
              "    </tr>\n",
              "    <tr>\n",
              "      <th>40425</th>\n",
              "      <td>1.654101</td>\n",
              "      <td>0.0</td>\n",
              "    </tr>\n",
              "    <tr>\n",
              "      <th>40426</th>\n",
              "      <td>1.654101</td>\n",
              "      <td>0.0</td>\n",
              "    </tr>\n",
              "    <tr>\n",
              "      <th>40427</th>\n",
              "      <td>1.654101</td>\n",
              "      <td>0.0</td>\n",
              "    </tr>\n",
              "    <tr>\n",
              "      <th>40428</th>\n",
              "      <td>1.654101</td>\n",
              "      <td>0.0</td>\n",
              "    </tr>\n",
              "  </tbody>\n",
              "</table>\n",
              "</div>\n",
              "      <button class=\"colab-df-convert\" onclick=\"convertToInteractive('df-ce4fffb1-34d4-488d-b45b-798c195eeadb')\"\n",
              "              title=\"Convert this dataframe to an interactive table.\"\n",
              "              style=\"display:none;\">\n",
              "        \n",
              "  <svg xmlns=\"http://www.w3.org/2000/svg\" height=\"24px\"viewBox=\"0 0 24 24\"\n",
              "       width=\"24px\">\n",
              "    <path d=\"M0 0h24v24H0V0z\" fill=\"none\"/>\n",
              "    <path d=\"M18.56 5.44l.94 2.06.94-2.06 2.06-.94-2.06-.94-.94-2.06-.94 2.06-2.06.94zm-11 1L8.5 8.5l.94-2.06 2.06-.94-2.06-.94L8.5 2.5l-.94 2.06-2.06.94zm10 10l.94 2.06.94-2.06 2.06-.94-2.06-.94-.94-2.06-.94 2.06-2.06.94z\"/><path d=\"M17.41 7.96l-1.37-1.37c-.4-.4-.92-.59-1.43-.59-.52 0-1.04.2-1.43.59L10.3 9.45l-7.72 7.72c-.78.78-.78 2.05 0 2.83L4 21.41c.39.39.9.59 1.41.59.51 0 1.02-.2 1.41-.59l7.78-7.78 2.81-2.81c.8-.78.8-2.07 0-2.86zM5.41 20L4 18.59l7.72-7.72 1.47 1.35L5.41 20z\"/>\n",
              "  </svg>\n",
              "      </button>\n",
              "      \n",
              "  <style>\n",
              "    .colab-df-container {\n",
              "      display:flex;\n",
              "      flex-wrap:wrap;\n",
              "      gap: 12px;\n",
              "    }\n",
              "\n",
              "    .colab-df-convert {\n",
              "      background-color: #E8F0FE;\n",
              "      border: none;\n",
              "      border-radius: 50%;\n",
              "      cursor: pointer;\n",
              "      display: none;\n",
              "      fill: #1967D2;\n",
              "      height: 32px;\n",
              "      padding: 0 0 0 0;\n",
              "      width: 32px;\n",
              "    }\n",
              "\n",
              "    .colab-df-convert:hover {\n",
              "      background-color: #E2EBFA;\n",
              "      box-shadow: 0px 1px 2px rgba(60, 64, 67, 0.3), 0px 1px 3px 1px rgba(60, 64, 67, 0.15);\n",
              "      fill: #174EA6;\n",
              "    }\n",
              "\n",
              "    [theme=dark] .colab-df-convert {\n",
              "      background-color: #3B4455;\n",
              "      fill: #D2E3FC;\n",
              "    }\n",
              "\n",
              "    [theme=dark] .colab-df-convert:hover {\n",
              "      background-color: #434B5C;\n",
              "      box-shadow: 0px 1px 3px 1px rgba(0, 0, 0, 0.15);\n",
              "      filter: drop-shadow(0px 1px 2px rgba(0, 0, 0, 0.3));\n",
              "      fill: #FFFFFF;\n",
              "    }\n",
              "  </style>\n",
              "\n",
              "      <script>\n",
              "        const buttonEl =\n",
              "          document.querySelector('#df-ce4fffb1-34d4-488d-b45b-798c195eeadb button.colab-df-convert');\n",
              "        buttonEl.style.display =\n",
              "          google.colab.kernel.accessAllowed ? 'block' : 'none';\n",
              "\n",
              "        async function convertToInteractive(key) {\n",
              "          const element = document.querySelector('#df-ce4fffb1-34d4-488d-b45b-798c195eeadb');\n",
              "          const dataTable =\n",
              "            await google.colab.kernel.invokeFunction('convertToInteractive',\n",
              "                                                     [key], {});\n",
              "          if (!dataTable) return;\n",
              "\n",
              "          const docLinkHtml = 'Like what you see? Visit the ' +\n",
              "            '<a target=\"_blank\" href=https://colab.research.google.com/notebooks/data_table.ipynb>data table notebook</a>'\n",
              "            + ' to learn more about interactive tables.';\n",
              "          element.innerHTML = '';\n",
              "          dataTable['output_type'] = 'display_data';\n",
              "          await google.colab.output.renderOutput(dataTable, element);\n",
              "          const docLink = document.createElement('div');\n",
              "          docLink.innerHTML = docLinkHtml;\n",
              "          element.appendChild(docLink);\n",
              "        }\n",
              "      </script>\n",
              "    </div>\n",
              "  </div>\n",
              "  "
            ]
          },
          "metadata": {},
          "execution_count": 16
        }
      ]
    },
    {
      "cell_type": "code",
      "source": [
        "from google.colab import files\n",
        "wb_nn7.to_csv('wb_nn7.csv')\n",
        "files.download('wb_nn7.csv')"
      ],
      "metadata": {
        "id": "JDmkmm89hJ8d",
        "outputId": "8498f4e6-15d5-47f1-f13d-c18d9934bbc6",
        "colab": {
          "base_uri": "https://localhost:8080/",
          "height": 17
        }
      },
      "execution_count": null,
      "outputs": [
        {
          "output_type": "display_data",
          "data": {
            "text/plain": [
              "<IPython.core.display.Javascript object>"
            ],
            "application/javascript": [
              "\n",
              "    async function download(id, filename, size) {\n",
              "      if (!google.colab.kernel.accessAllowed) {\n",
              "        return;\n",
              "      }\n",
              "      const div = document.createElement('div');\n",
              "      const label = document.createElement('label');\n",
              "      label.textContent = `Downloading \"${filename}\": `;\n",
              "      div.appendChild(label);\n",
              "      const progress = document.createElement('progress');\n",
              "      progress.max = size;\n",
              "      div.appendChild(progress);\n",
              "      document.body.appendChild(div);\n",
              "\n",
              "      const buffers = [];\n",
              "      let downloaded = 0;\n",
              "\n",
              "      const channel = await google.colab.kernel.comms.open(id);\n",
              "      // Send a message to notify the kernel that we're ready.\n",
              "      channel.send({})\n",
              "\n",
              "      for await (const message of channel.messages) {\n",
              "        // Send a message to notify the kernel that we're ready.\n",
              "        channel.send({})\n",
              "        if (message.buffers) {\n",
              "          for (const buffer of message.buffers) {\n",
              "            buffers.push(buffer);\n",
              "            downloaded += buffer.byteLength;\n",
              "            progress.value = downloaded;\n",
              "          }\n",
              "        }\n",
              "      }\n",
              "      const blob = new Blob(buffers, {type: 'application/binary'});\n",
              "      const a = document.createElement('a');\n",
              "      a.href = window.URL.createObjectURL(blob);\n",
              "      a.download = filename;\n",
              "      div.appendChild(a);\n",
              "      a.click();\n",
              "      div.remove();\n",
              "    }\n",
              "  "
            ]
          },
          "metadata": {}
        },
        {
          "output_type": "display_data",
          "data": {
            "text/plain": [
              "<IPython.core.display.Javascript object>"
            ],
            "application/javascript": [
              "download(\"download_bfa708e1-d135-41ed-a488-502e171f0042\", \"wb_nn7.csv\", 300890)"
            ]
          },
          "metadata": {}
        }
      ]
    }
  ]
}